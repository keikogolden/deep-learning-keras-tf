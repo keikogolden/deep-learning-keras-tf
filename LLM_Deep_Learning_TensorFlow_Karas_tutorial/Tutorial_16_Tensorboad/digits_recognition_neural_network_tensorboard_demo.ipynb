{
 "cells": [
  {
   "cell_type": "markdown",
   "metadata": {},
   "source": [
    "<h2 style=\"color:blue\" align=\"center\">Tensorboard demo using handwritten digits classification using neural network</h2>"
   ]
  },
  {
   "cell_type": "markdown",
   "metadata": {},
   "source": [
    "In this notebook we will classify handwritten digits using a simple neural network which has only input and output layers. We will than add a hidden layer and see how the performance of the model improves"
   ]
  },
  {
   "cell_type": "code",
   "execution_count": 1,
   "metadata": {},
   "outputs": [
    {
     "name": "stdout",
     "output_type": "stream",
     "text": [
      "WARNING:tensorflow:From C:\\Users\\keiko\\anaconda3\\Lib\\site-packages\\keras\\src\\losses.py:2976: The name tf.losses.sparse_softmax_cross_entropy is deprecated. Please use tf.compat.v1.losses.sparse_softmax_cross_entropy instead.\n",
      "\n"
     ]
    }
   ],
   "source": [
    "import tensorflow as tf\n",
    "from tensorflow import keras\n",
    "import matplotlib.pyplot as plt\n",
    "%matplotlib inline\n",
    "import numpy as np"
   ]
  },
  {
   "cell_type": "code",
   "execution_count": 2,
   "metadata": {},
   "outputs": [],
   "source": [
    "(X_train, y_train) , (X_test, y_test) = keras.datasets.mnist.load_data()"
   ]
  },
  {
   "cell_type": "code",
   "execution_count": 3,
   "metadata": {},
   "outputs": [
    {
     "data": {
      "text/plain": [
       "60000"
      ]
     },
     "execution_count": 3,
     "metadata": {},
     "output_type": "execute_result"
    }
   ],
   "source": [
    "len(X_train)"
   ]
  },
  {
   "cell_type": "code",
   "execution_count": 4,
   "metadata": {},
   "outputs": [
    {
     "data": {
      "text/plain": [
       "10000"
      ]
     },
     "execution_count": 4,
     "metadata": {},
     "output_type": "execute_result"
    }
   ],
   "source": [
    "len(X_test)"
   ]
  },
  {
   "cell_type": "code",
   "execution_count": 5,
   "metadata": {},
   "outputs": [
    {
     "data": {
      "text/plain": [
       "(28, 28)"
      ]
     },
     "execution_count": 5,
     "metadata": {},
     "output_type": "execute_result"
    }
   ],
   "source": [
    "X_train[0].shape"
   ]
  },
  {
   "cell_type": "code",
   "execution_count": 6,
   "metadata": {},
   "outputs": [
    {
     "data": {
      "text/plain": [
       "<matplotlib.image.AxesImage at 0x24ec1815f90>"
      ]
     },
     "execution_count": 6,
     "metadata": {},
     "output_type": "execute_result"
    },
    {
     "data": {
      "image/png": "[encoded data removed]",
      "text/plain": [
       "<Figure size 480x480 with 1 Axes>"
      ]
     },
     "metadata": {},
     "output_type": "display_data"
    }
   ],
   "source": [
    "plt.matshow(X_train[0])"
   ]
  },
  {
   "cell_type": "code",
   "execution_count": 7,
   "metadata": {},
   "outputs": [
    {
     "data": {
      "text/plain": [
       "5"
      ]
     },
     "execution_count": 7,
     "metadata": {},
     "output_type": "execute_result"
    }
   ],
   "source": [
    "y_train[0]"
   ]
  },
  {
   "cell_type": "code",
   "execution_count": 8,
   "metadata": {},
   "outputs": [],
   "source": [
    "X_train = X_train / 255\n",
    "X_test = X_test / 255"
   ]
  },
  {
   "cell_type": "code",
   "execution_count": 9,
   "metadata": {},
   "outputs": [],
   "source": [
    "X_train_flattened = X_train.reshape(len(X_train), 28*28)\n",
    "X_test_flattened = X_test.reshape(len(X_test), 28*28)"
   ]
  },
  {
   "cell_type": "code",
   "execution_count": 10,
   "metadata": {},
   "outputs": [
    {
     "data": {
      "text/plain": [
       "(60000, 784)"
      ]
     },
     "execution_count": 10,
     "metadata": {},
     "output_type": "execute_result"
    }
   ],
   "source": [
    "X_train_flattened.shape"
   ]
  },
  {
   "cell_type": "markdown",
   "metadata": {},
   "source": [
    "<h3 style='color:purple'>Using Flatten layer so that we don't have to call .reshape on input dataset</h3>"
   ]
  },
  {
   "cell_type": "code",
   "execution_count": 16,
   "metadata": {
    "scrolled": false
   },
   "outputs": [
    {
     "name": "stdout",
     "output_type": "stream",
     "text": [
      "Epoch 1/5\n",
      "1875/1875 [==============================] - 2s 1ms/step - loss: 0.6554 - accuracy: 0.8328\n",
      "Epoch 2/5\n",
      "1875/1875 [==============================] - 2s 1ms/step - loss: 0.3396 - accuracy: 0.9054\n",
      "Epoch 3/5\n",
      "1875/1875 [==============================] - 2s 1ms/step - loss: 0.2894 - accuracy: 0.9186\n",
      "Epoch 4/5\n",
      "1875/1875 [==============================] - 2s 1ms/step - loss: 0.2597 - accuracy: 0.9271\n",
      "Epoch 5/5\n",
      "1875/1875 [==============================] - 2s 1ms/step - loss: 0.2379 - accuracy: 0.9338\n"
     ]
    },
    {
     "data": {
      "text/plain": [
       "<keras.src.callbacks.History at 0x24ec3963cd0>"
      ]
     },
     "execution_count": 16,
     "metadata": {},
     "output_type": "execute_result"
    }
   ],
   "source": [
    "model = keras.Sequential([\n",
    "    keras.layers.Flatten(input_shape=(28, 28)),\n",
    "    keras.layers.Dense(100, activation='relu'),\n",
    "    keras.layers.Dense(10, activation='sigmoid')\n",
    "])\n",
    "\n",
    "model.compile(optimizer='sgd',\n",
    "              loss='sparse_categorical_crossentropy',\n",
    "              metrics=['accuracy'])\n",
    "\n",
    "tb_callback = tf.keras.callbacks.TensorBoard(log_dir=\"logs/sgd\", histogram_freq=1)\n",
    "\n",
    "model.fit(X_train, y_train, epochs=5, callbacks=[tb_callback])"
   ]
  },
  {
   "cell_type": "code",
   "execution_count": 12,
   "metadata": {},
   "outputs": [],
   "source": [
    "# %load_ext tensorboard\n",
    "# %tensorboard --logdir logs/fit"
   ]
  },
  {
   "cell_type": "markdown",
   "metadata": {},
   "source": [
    "Either run above inline magic or go to git bash or your command prompt and type below to run it,\n",
    "`tensorboard --logdir logs/`\n",
    "This will launch tensorboard at this url which you can open in your browser `http://localhost:6006/`"
   ]
  },
  {
   "cell_type": "code",
   "execution_count": 13,
   "metadata": {},
   "outputs": [
    {
     "data": {
      "text/plain": [
       "[array([[-0.02068099,  0.05164686,  0.06634352, ...,  0.04797077,\n",
       "         -0.01728345, -0.02524962],\n",
       "        [-0.00966996,  0.06272073,  0.06369182, ..., -0.0125916 ,\n",
       "         -0.07716916,  0.08186667],\n",
       "        [ 0.01118369,  0.02935497, -0.05377877, ...,  0.07404859,\n",
       "          0.07508805, -0.04351237],\n",
       "        ...,\n",
       "        [ 0.0503933 , -0.00425532, -0.03112633, ...,  0.02797234,\n",
       "          0.01815739, -0.01423325],\n",
       "        [ 0.03918388,  0.05415587,  0.05621679, ..., -0.00329348,\n",
       "         -0.00309647,  0.0480064 ],\n",
       "        [ 0.00480709, -0.07275222,  0.07594779, ..., -0.06916955,\n",
       "          0.04532731, -0.03049587]], dtype=float32),\n",
       " array([ 0.12266119,  0.12069177,  0.05114634, -0.05240274,  0.05807811,\n",
       "         0.18378443,  0.06368983,  0.011978  ,  0.03677985,  0.05575556,\n",
       "         0.12274718,  0.04863866,  0.08044386,  0.0110205 ,  0.04002638,\n",
       "         0.07645528, -0.05067917,  0.03589953,  0.00680127,  0.11369646,\n",
       "         0.00130166,  0.10780773,  0.03343962,  0.04148892, -0.00995499,\n",
       "         0.05616663,  0.0787079 ,  0.05346708, -0.01624475, -0.11191978,\n",
       "         0.0200667 ,  0.13665298,  0.12449274,  0.10581432, -0.0262412 ,\n",
       "         0.06336743,  0.11375769, -0.06285757,  0.07796196,  0.12936394,\n",
       "        -0.07470109,  0.05685223, -0.02216722,  0.03582744, -0.00555397,\n",
       "         0.04603181,  0.04589979,  0.07521195,  0.08356196,  0.10404095,\n",
       "        -0.01651751, -0.02415482,  0.08041625, -0.07926252,  0.17017284,\n",
       "         0.01810983,  0.05265164, -0.03743783,  0.11236748, -0.01791414,\n",
       "         0.22013873, -0.11132594, -0.03229867,  0.15347189, -0.02334934,\n",
       "        -0.03231291,  0.10269977,  0.11346432, -0.00653596,  0.02104933,\n",
       "         0.12179462,  0.0620612 ,  0.08246379, -0.08220793, -0.04557984,\n",
       "        -0.02574513,  0.01408435, -0.0038637 ,  0.08142736, -0.0501372 ,\n",
       "        -0.03175535,  0.0431697 ,  0.0590604 , -0.03834749,  0.03238091,\n",
       "        -0.02731823,  0.05074874,  0.12834522,  0.05111135, -0.05253217,\n",
       "         0.05786131,  0.05899516, -0.12045681,  0.11046319, -0.05983536,\n",
       "         0.00500452,  0.06421397, -0.03660262,  0.0337321 ,  0.01234184],\n",
       "       dtype=float32),\n",
       " array([[ 3.74540627e-01,  1.50253206e-01,  9.86489207e-02,\n",
       "          2.10744306e-01, -2.49469485e-02,  4.25621048e-02,\n",
       "         -2.67533306e-02,  2.96150327e-01, -6.66456163e-01,\n",
       "         -4.01899934e-01],\n",
       "        [-1.76321611e-01,  1.90402195e-01, -1.82385743e-02,\n",
       "         -4.04597700e-01,  3.49893779e-01,  1.23304278e-01,\n",
       "         -5.06807864e-01,  9.53562558e-02, -3.49533111e-01,\n",
       "          1.34685352e-01],\n",
       "        [ 2.58558482e-01, -8.18917274e-01, -2.16670573e-01,\n",
       "          3.58957648e-02,  2.34597340e-01,  2.55357683e-01,\n",
       "          1.74965888e-01,  3.09572127e-02,  8.44997987e-02,\n",
       "         -2.70883948e-01],\n",
       "        [ 2.76253760e-01, -2.39011765e-01, -7.20468685e-02,\n",
       "         -1.52220530e-02, -7.52992451e-01, -9.92468670e-02,\n",
       "          1.95178285e-01, -2.99279302e-01,  1.87770247e-01,\n",
       "         -2.41107382e-02],\n",
       "        [-3.67041379e-01,  8.70556608e-02, -2.61707366e-01,\n",
       "          6.46023229e-02,  7.74097890e-02, -8.09957907e-02,\n",
       "         -5.38824618e-01,  2.23938406e-01, -1.95255515e-03,\n",
       "         -4.90484200e-02],\n",
       "        [-4.09159034e-01, -3.42867643e-01,  1.36419073e-01,\n",
       "          2.01209798e-01,  3.31125736e-01,  5.46348244e-02,\n",
       "         -7.74011731e-01,  3.16393822e-01, -3.21113974e-01,\n",
       "          1.19529285e-01],\n",
       "        [-1.09699100e-01, -3.09032530e-01,  1.02698937e-01,\n",
       "          7.49895945e-02,  2.00306192e-01, -1.49208307e-01,\n",
       "          1.54896140e-01, -5.61479628e-02,  2.15423286e-01,\n",
       "          7.64556825e-02],\n",
       "        [-9.27834958e-02, -5.11357427e-01, -3.59112591e-01,\n",
       "         -3.73779029e-01, -3.73760276e-02,  2.08173573e-01,\n",
       "          5.00785299e-02,  1.41371666e-02,  1.90285057e-01,\n",
       "          1.04587018e-01],\n",
       "        [ 2.01030418e-01, -2.75266916e-02,  2.78701514e-01,\n",
       "         -2.66985416e-01,  3.61912400e-01, -1.43051036e-02,\n",
       "         -6.16259649e-02, -5.00571907e-01, -1.83278590e-01,\n",
       "          2.74520725e-01],\n",
       "        [-3.48014981e-02,  3.34036320e-01,  2.28082657e-01,\n",
       "         -5.16948700e-01,  1.74570128e-01, -8.15724194e-01,\n",
       "         -2.78556168e-01, -6.43769652e-02, -1.70968249e-01,\n",
       "          1.55430108e-01],\n",
       "        [ 7.76747167e-02, -2.40641892e-01,  3.31349641e-01,\n",
       "         -3.64824444e-01, -2.40363404e-01,  1.59570426e-01,\n",
       "          4.09337491e-01,  1.15672257e-02, -6.59935549e-02,\n",
       "         -3.72674316e-01],\n",
       "        [ 2.29870424e-01,  1.92132488e-01, -1.51799485e-01,\n",
       "          2.98278779e-02, -3.37348908e-01, -9.02507529e-02,\n",
       "          7.20077753e-02,  8.07268173e-02, -4.52614993e-01,\n",
       "         -4.90831941e-01],\n",
       "        [ 1.85308591e-01, -2.13325292e-01, -3.14499617e-01,\n",
       "         -5.99386513e-01,  2.66114742e-01,  1.33725718e-01,\n",
       "          4.04611453e-02,  1.80378586e-01, -2.70147264e-01,\n",
       "          1.02075301e-01],\n",
       "        [-5.86951673e-01,  1.78837731e-01,  1.30934209e-01,\n",
       "          8.00374076e-02, -3.08924079e-01,  1.23550380e-02,\n",
       "         -7.82563910e-02,  2.72846520e-01, -3.46274883e-01,\n",
       "         -1.20740581e+00],\n",
       "        [-1.21466547e-01, -1.45010710e-01,  3.16372871e-01,\n",
       "          1.83115423e-01,  2.05618933e-01, -3.55718970e-01,\n",
       "          2.52341211e-01,  5.66606596e-02, -1.73604757e-01,\n",
       "          2.36769378e-01],\n",
       "        [ 2.90204324e-02,  6.25201613e-02,  1.80726960e-01,\n",
       "          3.49594615e-02,  1.00954965e-01,  9.86218676e-02,\n",
       "         -1.60692573e-01, -3.21294963e-01,  1.12028018e-01,\n",
       "         -7.03905299e-02],\n",
       "        [ 1.76883504e-01,  1.72372192e-01,  1.11229405e-01,\n",
       "          6.16561994e-02,  2.43717536e-01, -2.50361949e-01,\n",
       "         -2.25391611e-01,  6.21446734e-03, -2.65295416e-01,\n",
       "          2.26645440e-01],\n",
       "        [ 2.20532924e-01, -5.28069511e-02, -1.45469815e-01,\n",
       "         -6.94119871e-01,  1.70361996e-01,  2.03580648e-01,\n",
       "         -4.92677212e-01,  5.44439182e-02, -2.65515596e-01,\n",
       "         -2.74866503e-02],\n",
       "        [-2.62771815e-01,  6.83770955e-01, -6.00914508e-02,\n",
       "         -3.40535074e-01,  6.34664059e-01, -1.31135061e-01,\n",
       "         -2.60846436e-01, -2.65135244e-02, -4.49285746e-01,\n",
       "         -5.57130516e-01],\n",
       "        [ 2.73388326e-01, -7.86658227e-02,  4.10663128e-01,\n",
       "         -2.54181400e-02, -1.15499568e+00, -2.72206545e-01,\n",
       "         -1.68206766e-01,  2.43141279e-01, -5.03577948e-01,\n",
       "         -7.97638357e-01],\n",
       "        [-2.89488174e-02,  1.80010095e-01,  2.93635502e-02,\n",
       "          2.11440891e-01, -2.69499421e-01,  1.07751936e-01,\n",
       "         -4.30173397e-01, -6.09273184e-03,  2.85820901e-01,\n",
       "          4.65618968e-02],\n",
       "        [-7.35930085e-01,  1.10951535e-01,  1.17204655e-02,\n",
       "          7.34099597e-02,  1.60445645e-01, -1.76397860e-01,\n",
       "         -4.61518168e-01, -2.58350521e-01,  2.24722192e-01,\n",
       "          1.76247731e-01],\n",
       "        [-7.48409554e-02, -4.50189412e-01, -2.20687330e-01,\n",
       "         -2.37423465e-01, -1.34375528e-01,  3.12546730e-01,\n",
       "          2.85396695e-01,  3.36412430e-01, -4.76124361e-02,\n",
       "          1.88261271e-01],\n",
       "        [ 3.49785596e-01, -4.18048471e-01, -4.44845796e-01,\n",
       "         -1.92104727e-01, -3.13112050e-01,  3.75234038e-01,\n",
       "          4.30944532e-01, -9.85664725e-02, -7.96496645e-02,\n",
       "          2.27205917e-01],\n",
       "        [-1.95644423e-01, -9.88044683e-03, -3.02092403e-01,\n",
       "         -6.53734326e-01,  9.90456939e-02,  2.35560685e-01,\n",
       "          2.13266253e-01, -2.56317765e-01, -8.22151601e-02,\n",
       "          1.04370005e-01],\n",
       "        [-6.05322301e-01,  2.16740713e-01,  2.25185052e-01,\n",
       "         -5.07257506e-02, -3.05228740e-01,  1.43525705e-01,\n",
       "         -3.80107202e-02, -3.75674397e-01,  6.32783845e-02,\n",
       "          3.42289470e-02],\n",
       "        [-5.68332374e-01, -2.10902274e-01, -4.94746864e-01,\n",
       "         -5.01209557e-01, -3.48699272e-01,  7.34139204e-01,\n",
       "          1.72868609e-01,  9.66346934e-02, -5.57149202e-03,\n",
       "         -4.13264543e-01],\n",
       "        [-4.23335582e-01,  2.75212169e-01,  9.60543454e-02,\n",
       "          1.46663040e-01, -2.36559868e-01, -7.96915889e-02,\n",
       "          1.48718029e-01, -1.74472228e-01, -9.55784041e-03,\n",
       "          5.71673475e-02],\n",
       "        [ 1.19862378e-01, -7.50577971e-02, -1.40378177e-01,\n",
       "         -1.06960684e-01, -2.05248699e-01,  4.79799695e-03,\n",
       "         -4.20942046e-02,  1.96349159e-01, -6.30294625e-03,\n",
       "          1.04087010e-01],\n",
       "        [ 3.43514122e-02, -2.80941278e-01, -6.80787981e-01,\n",
       "         -3.21438573e-02, -9.35639292e-02,  1.49450572e-02,\n",
       "         -8.38408619e-02,  1.72869906e-01, -3.45358998e-01,\n",
       "          3.90312314e-01],\n",
       "        [ 2.50687957e-01, -2.62311548e-01,  2.60919899e-01,\n",
       "         -1.60485268e-01,  1.35872558e-01, -1.88989103e-01,\n",
       "          3.40457410e-02, -2.43526116e-01,  1.49070561e-01,\n",
       "         -2.19703868e-01],\n",
       "        [-3.47042918e-01, -2.44490191e-01, -2.62565315e-01,\n",
       "          1.71432331e-01,  2.00873986e-01,  2.11359590e-01,\n",
       "         -8.16874862e-01,  8.30771327e-02, -2.15854887e-02,\n",
       "          2.39545435e-01],\n",
       "        [-6.25051141e-01, -1.86236784e-01, -7.97430813e-01,\n",
       "          1.15206890e-01, -4.88485932e-01,  4.37565953e-01,\n",
       "          1.10821456e-01,  1.24858730e-01,  1.03099383e-01,\n",
       "         -1.55880466e-01],\n",
       "        [-1.63364992e-01,  2.11418644e-01, -3.47706497e-01,\n",
       "         -6.91960216e-01,  2.25571141e-01,  1.18961573e-01,\n",
       "          4.49270248e-01, -2.89052188e-01,  1.86634004e-01,\n",
       "          3.13585609e-01],\n",
       "        [-5.20993531e-01, -1.95596188e-01, -2.31537446e-01,\n",
       "          8.21381509e-02, -6.56819046e-01,  5.43739021e-01,\n",
       "          4.88436848e-01, -5.63977242e-01, -5.94959827e-03,\n",
       "         -3.15400869e-01],\n",
       "        [-1.63131773e-01, -4.67236876e-01,  1.14190042e-01,\n",
       "          4.53600138e-02,  2.29782283e-01,  1.91891983e-01,\n",
       "         -3.32653858e-02, -3.30833316e-01,  2.03185365e-01,\n",
       "          3.41731519e-01],\n",
       "        [ 1.89088792e-01, -5.38942933e-01,  2.96663761e-01,\n",
       "         -2.77705044e-01,  2.39403799e-01,  2.82067657e-01,\n",
       "          2.13139448e-02, -2.89708495e-01, -1.24780759e-01,\n",
       "          1.82206154e-01],\n",
       "        [ 8.04209635e-02,  5.70839942e-02,  1.71955764e-01,\n",
       "         -2.43443191e-01,  4.99389432e-02,  8.56595635e-02,\n",
       "          5.19088544e-02, -3.15820247e-01,  1.57344833e-01,\n",
       "          5.87132089e-02],\n",
       "        [ 2.41486788e-01,  1.21776193e-01, -3.03619392e-02,\n",
       "         -3.19857925e-01,  2.58121669e-01, -6.68713570e-01,\n",
       "          3.12829673e-01,  4.21291858e-01, -2.93440372e-01,\n",
       "         -8.43526796e-02],\n",
       "        [-2.95714885e-01,  5.08612022e-02,  4.33363497e-01,\n",
       "         -7.64937839e-03,  1.67856961e-01, -2.56292135e-01,\n",
       "         -8.27298403e-01,  2.99811900e-01, -5.11583984e-01,\n",
       "          4.46439013e-02],\n",
       "        [ 1.57079771e-01, -2.75860965e-01,  9.02549922e-02,\n",
       "          1.14928752e-01, -4.08348739e-02,  5.79466857e-02,\n",
       "         -8.25288594e-02, -3.60758990e-01,  2.16773793e-01,\n",
       "          2.06048429e-01],\n",
       "        [ 1.98944658e-01, -3.65158886e-01, -2.36817732e-01,\n",
       "         -1.05182312e-01, -3.39945555e-02, -1.65046573e-01,\n",
       "         -2.96036690e-01,  8.16070754e-03,  3.09583932e-01,\n",
       "          2.65749216e-01],\n",
       "        [ 2.27371324e-02,  2.74528861e-01,  1.98398829e-01,\n",
       "          2.48239160e-01,  3.75421464e-01, -5.99234998e-01,\n",
       "         -5.31210452e-02,  1.58612549e-01,  3.78526710e-02,\n",
       "         -3.08691680e-01],\n",
       "        [-8.03653300e-02,  6.73552692e-01, -3.84752333e-01,\n",
       "         -6.84541985e-02,  4.65680301e-01,  1.74812034e-01,\n",
       "         -1.01185173e-01, -2.72461623e-01,  1.89078912e-01,\n",
       "         -2.34952658e-01],\n",
       "        [-4.44270611e-01,  1.49315774e-01,  3.07680845e-01,\n",
       "          3.78353804e-01, -2.19194561e-01, -3.08928937e-01,\n",
       "         -3.30408633e-01,  2.18382925e-01, -1.14643667e-02,\n",
       "         -4.68061686e-01],\n",
       "        [-3.19523625e-02,  2.79721737e-01, -4.05765325e-01,\n",
       "         -6.74273968e-01, -1.62936777e-01,  2.77829707e-01,\n",
       "          2.72348940e-01, -1.95881307e-01, -9.59305987e-02,\n",
       "          5.11262007e-02],\n",
       "        [-1.03150077e-01, -3.28547537e-01,  2.18567252e-01,\n",
       "          1.33234426e-01,  3.25925857e-01,  1.90220892e-01,\n",
       "          3.53480503e-02, -2.34661147e-01, -1.41413555e-01,\n",
       "         -5.39315581e-01],\n",
       "        [-3.49797755e-01, -5.44415489e-02,  2.02265099e-01,\n",
       "         -6.35189474e-01, -1.47014400e-02, -3.51672471e-01,\n",
       "         -1.57128796e-02,  3.50094438e-01, -4.68421012e-01,\n",
       "         -3.18434760e-02],\n",
       "        [ 5.31433225e-02, -2.48553544e-01,  1.24988548e-01,\n",
       "          1.57493308e-01, -8.94187614e-02,  1.38113201e-01,\n",
       "          2.25169092e-01, -1.56831816e-01,  2.27328882e-01,\n",
       "         -3.71616989e-01],\n",
       "        [-3.91026735e-01,  2.60149717e-01, -3.21748316e-01,\n",
       "          2.29176030e-01,  1.84494868e-01,  4.17600542e-01,\n",
       "          1.53751597e-01, -2.52297938e-01, -8.17662060e-01,\n",
       "          1.70703307e-01],\n",
       "        [ 1.91809312e-02,  4.83140141e-01, -2.45735765e-01,\n",
       "          3.74959469e-01, -2.22139806e-01,  2.14039683e-02,\n",
       "          3.67341310e-01, -4.83374670e-02,  1.38283940e-02,\n",
       "         -3.76188785e-01],\n",
       "        [ 1.13650948e-01,  3.83423567e-01, -1.54747814e-01,\n",
       "         -1.26988649e-01,  2.67360806e-01, -5.04014611e-01,\n",
       "          3.34285617e-01,  2.33444154e-01, -4.75786418e-01,\n",
       "          1.44774035e-01],\n",
       "        [ 1.15381844e-01,  1.57420784e-01,  1.56970084e-01,\n",
       "         -5.97867131e-01, -9.75929946e-02, -3.28010082e-01,\n",
       "         -1.22948997e-01, -9.25139040e-02,  4.90842491e-01,\n",
       "         -6.32032335e-01],\n",
       "        [ 2.53194094e-01, -3.31562757e-02, -3.28448080e-02,\n",
       "          2.26296902e-01, -5.83914220e-01, -4.95646298e-02,\n",
       "          4.84926207e-03,  6.45416677e-02,  1.39479175e-01,\n",
       "          2.87388355e-01],\n",
       "        [ 8.45030248e-02,  4.94862020e-01, -4.06544507e-01,\n",
       "         -5.07278025e-01, -2.89553881e-01,  2.43887797e-01,\n",
       "         -3.47433388e-01,  8.52949247e-02, -5.83262503e-01,\n",
       "          2.82911025e-02],\n",
       "        [-9.28437486e-02, -4.05550092e-01,  1.42128214e-01,\n",
       "         -2.61697471e-01,  2.58449793e-01,  1.72197670e-01,\n",
       "         -5.49557731e-02,  6.90087378e-02,  3.11067045e-01,\n",
       "          1.86849535e-01],\n",
       "        [-2.45538339e-01,  6.88120574e-02, -8.57943073e-02,\n",
       "         -9.03373286e-02,  1.63473979e-01, -3.45353395e-01,\n",
       "          3.10984105e-02,  5.78106120e-02, -2.71418169e-02,\n",
       "         -1.00230001e-01],\n",
       "        [-4.22429949e-01, -2.05301926e-01, -4.40619200e-01,\n",
       "          4.85322863e-01,  1.15400091e-01,  1.50212958e-01,\n",
       "          9.67243612e-02,  1.33580402e-01, -3.67571682e-01,\n",
       "         -1.31003439e-01],\n",
       "        [-5.93185127e-01,  1.56218007e-01,  6.61928236e-01,\n",
       "         -1.55474752e-01, -3.89279425e-01,  4.79563251e-02,\n",
       "          6.27930090e-02,  4.40667361e-01, -1.08392455e-01,\n",
       "         -8.12151313e-01],\n",
       "        [ 1.19769067e-01, -4.42768354e-03, -1.79178901e-02,\n",
       "          1.48217022e-01,  1.61423404e-02, -4.12560403e-01,\n",
       "         -7.30030313e-02,  1.44894451e-01,  2.22645953e-01,\n",
       "          3.30669917e-02],\n",
       "        [ 7.61484653e-02,  2.33804613e-01,  2.65067637e-01,\n",
       "         -2.92796433e-01,  4.77084011e-01,  9.08987373e-02,\n",
       "         -3.93823385e-01,  3.61710280e-01, -3.37803662e-02,\n",
       "         -5.49910367e-01],\n",
       "        [-4.90385532e-01,  1.21405333e-01,  1.66643094e-02,\n",
       "          2.93844938e-01, -5.15787959e-01,  3.52597684e-01,\n",
       "         -7.39491701e-01, -3.87041181e-01, -1.78900659e-01,\n",
       "          2.30078906e-01],\n",
       "        [ 3.64752449e-02, -2.44956121e-01,  4.04763184e-02,\n",
       "          2.53016889e-01, -5.10321036e-02, -5.85024595e-01,\n",
       "          4.11224067e-01,  8.03116858e-02,  1.73093677e-01,\n",
       "          1.49937943e-01],\n",
       "        [-1.12465322e-01,  9.37545151e-02,  2.35118523e-01,\n",
       "         -1.85831532e-01,  4.81194705e-02,  1.47475151e-03,\n",
       "          2.02530786e-01, -4.85400647e-01,  1.18478090e-01,\n",
       "         -1.89949170e-01],\n",
       "        [-2.34820712e-02, -5.18536083e-02, -2.59742409e-01,\n",
       "          2.54681379e-01, -1.89504385e-01,  6.60567209e-02,\n",
       "         -1.56014696e-01,  1.28417239e-01,  2.39116609e-01,\n",
       "          2.31061041e-01],\n",
       "        [ 1.29941702e-01, -1.84675559e-01, -3.83667797e-01,\n",
       "          3.69329870e-01, -3.72404784e-01,  4.91692841e-01,\n",
       "          9.13368538e-02, -3.92874211e-01, -2.16042876e-01,\n",
       "         -3.37125361e-01],\n",
       "        [-2.83223480e-01,  3.99040990e-02,  2.45259807e-01,\n",
       "         -2.96306670e-01, -1.16075113e-01, -2.21395060e-01,\n",
       "          1.28286064e-01, -3.70228142e-01, -4.53518592e-02,\n",
       "          2.83238411e-01],\n",
       "        [-4.67379130e-02, -2.88401376e-02, -6.01280570e-01,\n",
       "         -1.13537565e-01, -9.92559046e-02,  2.66106755e-01,\n",
       "         -1.66113079e-01, -9.10241380e-02,  6.26806095e-02,\n",
       "          2.78910045e-02],\n",
       "        [ 8.08165073e-02, -1.61465202e-02,  9.46460068e-02,\n",
       "          2.20164329e-01, -2.40187377e-01, -5.09489886e-03,\n",
       "          2.25462615e-01, -2.36275773e-02, -2.23663934e-02,\n",
       "         -4.89283353e-01],\n",
       "        [-2.17916295e-01,  2.03378215e-01,  2.70422082e-03,\n",
       "          1.20962285e-01, -3.06941032e-01,  7.59918541e-02,\n",
       "          1.81855768e-01, -4.77895468e-01,  2.23808900e-01,\n",
       "         -4.13487032e-02],\n",
       "        [-3.82288694e-01,  6.90387905e-01, -5.74572049e-02,\n",
       "          1.43871367e-01,  4.37837660e-01, -6.66297019e-01,\n",
       "          2.19519343e-02, -1.66980997e-02, -3.44085008e-01,\n",
       "         -3.90033126e-01],\n",
       "        [-3.80782813e-01,  1.67875007e-01, -7.18964875e-01,\n",
       "          4.62240130e-01,  2.38071263e-01, -1.51873613e-02,\n",
       "         -6.36918008e-01, -9.91493762e-02, -6.37676179e-01,\n",
       "          3.43818039e-01],\n",
       "        [-5.28119028e-01, -1.93156615e-01,  2.23049045e-01,\n",
       "          6.13068230e-02, -1.05747484e-01,  1.37794226e-01,\n",
       "          2.92736292e-01,  5.04920296e-02, -6.51540756e-01,\n",
       "          5.02519533e-02],\n",
       "        [-6.73102975e-01,  1.89478159e-01,  9.12394896e-02,\n",
       "          2.18841415e-02,  8.12523142e-02,  5.91554539e-03,\n",
       "         -8.40497673e-01,  2.71031499e-01, -1.55958533e-01,\n",
       "         -2.80497253e-01],\n",
       "        [ 5.48582613e-01, -1.07198227e-02,  1.84203014e-01,\n",
       "          9.72274914e-02, -4.32485968e-01, -3.20872337e-01,\n",
       "          3.01554620e-01, -3.12419802e-01,  7.29236528e-02,\n",
       "          2.37769842e-01],\n",
       "        [ 2.41496950e-01,  7.45212287e-03, -2.01215982e-01,\n",
       "          3.79833579e-02, -3.02616686e-01, -4.76130880e-02,\n",
       "          2.38486394e-01, -5.14501810e-01, -7.20544159e-03,\n",
       "         -3.83493602e-01],\n",
       "        [-2.90847607e-02, -4.76318389e-01, -9.55738127e-02,\n",
       "         -1.78359002e-01, -1.07836306e+00,  3.33221674e-01,\n",
       "          2.85157651e-01,  1.62772890e-02,  1.04575500e-01,\n",
       "         -7.27645010e-02],\n",
       "        [ 1.87197909e-01, -4.81722981e-01, -1.33105204e-01,\n",
       "          7.59258345e-02, -1.00996427e-01,  2.07580611e-01,\n",
       "         -4.01438892e-01,  3.38425711e-02, -8.72851238e-02,\n",
       "          5.72094731e-02],\n",
       "        [ 2.69745506e-04,  2.06979439e-01, -5.11841252e-02,\n",
       "         -4.94752675e-01,  7.86710382e-02,  1.13446981e-01,\n",
       "          2.26782426e-01,  1.76672295e-01,  1.53451294e-01,\n",
       "         -6.79989636e-01],\n",
       "        [ 7.95992613e-02, -2.62977988e-01, -1.90946236e-01,\n",
       "          2.22307205e-01,  9.71559137e-02, -4.91167158e-02,\n",
       "         -1.89951807e-01,  6.40154630e-02,  2.14527786e-01,\n",
       "          1.92315534e-01],\n",
       "        [ 3.69526178e-01, -2.28585914e-01, -4.74662632e-01,\n",
       "          9.33168679e-02,  1.59140229e-01, -2.14929521e-01,\n",
       "         -7.01988786e-02,  2.82639086e-01, -3.36565316e-01,\n",
       "          3.77445132e-01],\n",
       "        [-2.20369950e-01, -1.39464080e-01,  3.78991038e-01,\n",
       "         -1.24493383e-01, -7.81589746e-02, -5.43303266e-02,\n",
       "         -4.18686718e-01,  2.26655021e-01,  2.28594512e-01,\n",
       "          2.08498955e-01],\n",
       "        [-4.26555723e-02,  2.37575829e-01,  3.43834877e-01,\n",
       "         -2.49572575e-01, -4.85674590e-01,  7.23108202e-02,\n",
       "         -2.84435689e-01, -2.68526644e-01,  1.84683517e-01,\n",
       "          1.34308919e-01],\n",
       "        [-7.45569915e-02,  1.65356211e-02, -9.49598998e-02,\n",
       "         -5.13749272e-02, -3.32557447e-02, -2.84185231e-01,\n",
       "          7.38997310e-02, -1.06406704e-01,  1.44585580e-01,\n",
       "         -2.17366159e-01],\n",
       "        [ 8.90818313e-02, -6.01672493e-02,  1.95634559e-01,\n",
       "         -2.89399654e-01,  2.32474610e-01,  1.34413317e-01,\n",
       "         -4.35170196e-02, -2.19161212e-01,  2.52491713e-01,\n",
       "         -4.43659723e-01],\n",
       "        [ 1.55249506e-01, -4.62575614e-01,  1.17393315e-01,\n",
       "          8.50892365e-02,  6.88708425e-02, -1.76382333e-01,\n",
       "          1.74769685e-02,  1.64364576e-01,  1.21028364e-01,\n",
       "          1.74110189e-01],\n",
       "        [ 1.17370777e-01, -1.63695425e-01,  2.60104328e-01,\n",
       "          2.75772661e-01,  1.74427867e-01, -1.37995601e-01,\n",
       "         -2.33061146e-02,  4.30822164e-01, -2.07660347e-01,\n",
       "         -6.01472139e-01],\n",
       "        [ 9.87822935e-02,  2.10848927e-01, -6.91069961e-02,\n",
       "          2.53645957e-01, -5.18455386e-01,  2.42075250e-02,\n",
       "         -3.52909833e-01,  2.86699474e-01, -2.55085498e-01,\n",
       "         -1.38637200e-01],\n",
       "        [ 1.87102154e-01, -4.89240140e-01,  1.93842843e-01,\n",
       "          3.18019614e-02, -5.79058647e-01,  2.34978497e-01,\n",
       "         -7.63011396e-01,  3.12771559e-01,  3.93929593e-02,\n",
       "          2.40950152e-01],\n",
       "        [-2.42724240e-01,  1.95761472e-01, -9.54683200e-02,\n",
       "          2.47768745e-01, -3.88850719e-01,  4.65430140e-01,\n",
       "         -7.31536686e-01, -2.41749316e-01, -6.47078454e-01,\n",
       "          2.25803182e-01],\n",
       "        [-1.71670139e-01,  3.21686789e-02,  2.84606278e-01,\n",
       "          2.94562191e-01, -6.51785851e-01,  1.92615420e-01,\n",
       "         -4.92502421e-01,  3.33493024e-01, -4.70960021e-01,\n",
       "          3.25437933e-02],\n",
       "        [-6.37307942e-01,  2.65627503e-01, -2.30843842e-01,\n",
       "         -5.80115318e-01,  4.57586586e-01, -3.52835715e-01,\n",
       "         -3.49136531e-01,  4.21270967e-01, -7.58598447e-02,\n",
       "         -1.70253411e-01],\n",
       "        [-7.46551007e-02, -7.64546514e-01, -1.45041451e-01,\n",
       "          3.73297244e-01,  1.73259676e-01,  2.34957650e-01,\n",
       "         -3.61833543e-01, -4.08937097e-01,  2.82855779e-01,\n",
       "          2.99330771e-01],\n",
       "        [-5.53388655e-01,  2.72195816e-01, -1.74780414e-01,\n",
       "          2.37876818e-01,  2.32474029e-01,  1.39217228e-01,\n",
       "          1.21010251e-01,  8.51997882e-02,  2.94801384e-01,\n",
       "          6.59308210e-02],\n",
       "        [ 2.49563605e-01, -2.43910421e-02,  5.64529113e-02,\n",
       "          1.54518902e-01, -5.68662882e-01,  4.00044732e-02,\n",
       "         -8.49646032e-02, -4.54770029e-01,  7.87025020e-02,\n",
       "         -1.55108511e-01],\n",
       "        [ 2.58009940e-01,  3.40831641e-04,  9.42682773e-02,\n",
       "         -2.30073482e-01, -3.33573461e-01, -3.89901012e-01,\n",
       "         -1.08437493e-01,  1.61694035e-01,  4.85724099e-02,\n",
       "          2.41371989e-01],\n",
       "        [ 3.14880133e-01,  9.32398364e-02,  2.70972282e-01,\n",
       "         -3.70196611e-01, -7.28095844e-02, -3.46635818e-01,\n",
       "          1.08169541e-01,  6.68745339e-02, -5.89284241e-01,\n",
       "         -5.57887331e-02],\n",
       "        [ 4.74691764e-02,  1.75546229e-01, -3.55486810e-01,\n",
       "          1.44123375e-01, -3.64737883e-02, -3.33936900e-01,\n",
       "         -1.16628371e-01, -4.49856997e-01,  3.14998031e-01,\n",
       "          3.68690580e-01],\n",
       "        [-4.25467342e-01, -2.71763764e-02,  3.30076337e-01,\n",
       "          2.06715539e-01, -8.89904499e-01,  3.24148655e-01,\n",
       "          1.93646792e-02,  2.83728212e-01, -3.53590548e-01,\n",
       "         -1.63111433e-01],\n",
       "        [ 3.45931083e-01,  2.49987230e-01,  3.57124895e-01,\n",
       "          1.87255964e-01, -1.03527069e+00,  2.49534696e-01,\n",
       "         -3.87950480e-01, -2.86945999e-02, -7.34578967e-02,\n",
       "         -5.50209284e-02]], dtype=float32),\n",
       " array([-0.15259343, -0.02828197,  0.089731  , -0.04470355,  0.07237794,\n",
       "         0.00115317, -0.03723095, -0.02523461,  0.08951357, -0.04182716],\n",
       "       dtype=float32)]"
      ]
     },
     "execution_count": 13,
     "metadata": {},
     "output_type": "execute_result"
    }
   ],
   "source": [
    "model.get_weights()"
   ]
  },
  {
   "cell_type": "code",
   "execution_count": 14,
   "metadata": {},
   "outputs": [
    {
     "data": {
      "text/html": [
       "\n",
       "      <iframe id=\"tensorboard-frame-4268b21605cdcf5e\" width=\"100%\" height=\"800\" frameborder=\"0\">\n",
       "      </iframe>\n",
       "      <script>\n",
       "        (function() {\n",
       "          const frame = document.getElementById(\"tensorboard-frame-4268b21605cdcf5e\");\n",
       "          const url = new URL(\"/\", window.location);\n",
       "          const port = 6007;\n",
       "          if (port) {\n",
       "            url.port = port;\n",
       "          }\n",
       "          frame.src = url;\n",
       "        })();\n",
       "      </script>\n",
       "    "
      ],
      "text/plain": [
       "<IPython.core.display.HTML object>"
      ]
     },
     "metadata": {},
     "output_type": "display_data"
    }
   ],
   "source": [
    "%load_ext tensorboard\n",
    "%tensorboard --logdir logs/fit"
   ]
  },
  {
   "cell_type": "code",
   "execution_count": null,
   "metadata": {},
   "outputs": [],
   "source": []
  }
 ],
 "metadata": {
  "kernelspec": {
   "display_name": "Python 3 (ipykernel)",
   "language": "python",
   "name": "python3"
  },
  "language_info": {
   "codemirror_mode": {
    "name": "ipython",
    "version": 3
   },
   "file_extension": ".py",
   "mimetype": "text/x-python",
   "name": "python",
   "nbconvert_exporter": "python",
   "pygments_lexer": "ipython3",
   "version": "3.11.5"
  }
 },
 "nbformat": 4,
 "nbformat_minor": 4
}
