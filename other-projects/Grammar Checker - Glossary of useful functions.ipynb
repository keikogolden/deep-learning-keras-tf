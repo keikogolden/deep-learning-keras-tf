{
 "cells": [
  {
   "cell_type": "code",
   "execution_count": 3,
   "id": "16ee9944",
   "metadata": {},
   "outputs": [
    {
     "name": "stdout",
     "output_type": "stream",
     "text": [
      "Requirement already satisfied: language_tool_python in c:\\users\\keikogolden\\anaconda3\\lib\\site-packages (2.7.1)\n",
      "Requirement already satisfied: requests in c:\\users\\keikogolden\\anaconda3\\lib\\site-packages (from language_tool_python) (2.27.1)\n",
      "Note: you may need to restart the kernel to use updated packages.Requirement already satisfied: tqdm in c:\\users\\keikogolden\\anaconda3\\lib\\site-packages (from language_tool_python) (4.64.0)\n",
      "Requirement already satisfied: charset-normalizer~=2.0.0 in c:\\users\\keikogolden\\anaconda3\\lib\\site-packages (from requests->language_tool_python) (2.0.4)\n",
      "\n"
     ]
    },
    {
     "name": "stderr",
     "output_type": "stream",
     "text": [
      "\n",
      "[notice] A new release of pip is available: 23.0 -> 23.1\n",
      "[notice] To update, run: python.exe -m pip install --upgrade pip\n"
     ]
    },
    {
     "name": "stdout",
     "output_type": "stream",
     "text": [
      "Requirement already satisfied: urllib3<1.27,>=1.21.1 in c:\\users\\keikogolden\\anaconda3\\lib\\site-packages (from requests->language_tool_python) (1.26.9)\n",
      "Requirement already satisfied: certifi>=2017.4.17 in c:\\users\\keikogolden\\anaconda3\\lib\\site-packages (from requests->language_tool_python) (2021.10.8)\n",
      "Requirement already satisfied: idna<4,>=2.5 in c:\\users\\keikogolden\\anaconda3\\lib\\site-packages (from requests->language_tool_python) (3.3)\n",
      "Requirement already satisfied: colorama in c:\\users\\keikogolden\\anaconda3\\lib\\site-packages (from tqdm->language_tool_python) (0.4.4)\n"
     ]
    }
   ],
   "source": [
    "pip install language_tool_python"
   ]
  },
  {
   "cell_type": "code",
   "execution_count": 1,
   "id": "657192e0",
   "metadata": {},
   "outputs": [
    {
     "name": "stdout",
     "output_type": "stream",
     "text": [
      "Offset 2, length 3, Rule ID: PERS_PRONOUN_AGREEMENT\n",
      "Message: Did you mean “am” or “ate”?\n",
      "Suggestion: am; ate\n",
      "I are an English teacher.\n",
      "  ^^^\n"
     ]
    }
   ],
   "source": [
    "import language_tool_python\n",
    "\n",
    "tool = language_tool_python.LanguageTool('en-US')\n",
    "\n",
    "text = 'I are an English teacher.'\n",
    "matches = tool.check(text)\n",
    "\n",
    "for match in matches:\n",
    "    print(match)"
   ]
  },
  {
   "cell_type": "code",
   "execution_count": null,
   "id": "8fac0f95",
   "metadata": {},
   "outputs": [],
   "source": [
    "pattern = re.compile(r'[\\n\\t\\r\\x0b\\x0c]+')\n",
    "locale_df[skill_col_name] = locale_df[skill_col_name].apply(lambda x: pattern.sub('', x))"
   ]
  },
  {
   "cell_type": "code",
   "execution_count": null,
   "id": "109716e2",
   "metadata": {},
   "outputs": [],
   "source": [
    "import pandas as pd\n",
    "\n",
    "command = \"\"\"\n",
    "select skills.skill as main, \n",
    "    skills_en_gb.skill as en_gb,\n",
    "    skills_en_us.skill as en_us,\n",
    "    skills_de_de.skill as de_de,\n",
    "    skills_es_es.skill as es_es,\n",
    "    skills_fr_ca.skill as fr_ca, \n",
    "    skills_fr_fr.skill as fr_fr,\n",
    "    skills_it_it.skill as it_it,\n",
    "    skills_ja_jp.skill as ja_jp,\n",
    "    skills_ko_kr.skill as ko_kr, \n",
    "    skills_en_gb.base_form as base_en_gb,\n",
    "    skills_en_us.base_form as base_en_us,\n",
    "    skills_de_de.base_form as base_de_de,\n",
    "    skills_es_es.base_form as base_es_es,\n",
    "    skills_fr_ca.base_form as base_fr_ca, \n",
    "    skills_fr_fr.base_form as base_fr_fr,\n",
    "    skills_it_it.base_form as base_it_it,\n",
    "    skills_ja_jp.base_form as base_ja_jp,\n",
    "    skills_ko_kr.base_form as base_ko_kr,\n",
    "    skills_en_gb.skill_definition as definition_en_gb,\n",
    "    skills_en_us.skill_definition as definition_en_us,\n",
    "    skills_de_de.skill_definition as definition_de_de,\n",
    "    skills_es_es.skill_definition as definition_es_es,\n",
    "    skills_fr_ca.skill_definition as definition_fr_ca, \n",
    "    skills_fr_fr.skill_definition as definition_fr_fr,\n",
    "    skills_it_it.skill_definition as definition_it_it,\n",
    "    skills_ja_jp.skill_definition as definition_ja_jp,\n",
    "    skills_ko_kr.skill_definition as definition_ko_kr\n",
    "from skills\n",
    "join skills_en_gb on skills.id = skills_en_gb.skill_id\n",
    "join skills_en_us on skills.id = skills_en_us.skill_id\n",
    "join skills_de_de on skills.id = skills_de_de.skill_id\n",
    "join skills_es_es on skills.id = skills_es_es.skill_id\n",
    "join skills_fr_ca on skills.id = skills_fr_ca.skill_id\n",
    "join skills_fr_fr on skills.id = skills_fr_fr.skill_id\n",
    "join skills_it_it on skills.id = skills_it_it.skill_id\n",
    "join skills_ja_jp on skills.id = skills_ja_jp.skill_id\n",
    "join skills_ko_kr on skills.id = skills_ko_kr.skill_id\n",
    "\n",
    "\"\"\"\n",
    "\n",
    "input_df = pd.read_sql(command, conn)\n",
    "input_df"
   ]
  },
  {
   "cell_type": "code",
   "execution_count": null,
   "id": "649a40cc",
   "metadata": {},
   "outputs": [],
   "source": [
    "import pandas as pd\n",
    "\n",
    "def get_locale_table(locale):\n",
    "    command = f\"\"\"\n",
    "    select skills.skill as main, \n",
    "    skills_{locale}.skill as {locale}, \n",
    "    skills_{locale}.base_form as base_{locale},\n",
    "    skills_{locale}.skill_definition as definition_{locale}\n",
    "    from skills\n",
    "    join skills_{locale} \n",
    "    on skills.id = skills_{locale}.skill_id\n",
    "    \"\"\"\n",
    "    df = pd.read_sql(command, conn)\n",
    "    return df"
   ]
  },
  {
   "cell_type": "code",
   "execution_count": null,
   "id": "bde651b3",
   "metadata": {},
   "outputs": [],
   "source": [
    "de_de_df.query('wrong_trans_skill!=\"en\"')"
   ]
  },
  {
   "cell_type": "code",
   "execution_count": null,
   "id": "ed5788d2",
   "metadata": {},
   "outputs": [],
   "source": [
    "# Option1 - Prints out all results.\n",
    "import spacy\n",
    "from spacy.language import Language\n",
    "from spacy_langdetect import LanguageDetector\n",
    "\n",
    "def get_lang_detector(nlp, name):\n",
    "    return LanguageDetector()\n",
    "\n",
    "nlp = spacy.load(\"en_core_web_lg\")\n",
    "nlp.add_pipe('language_detector', last=True)\n",
    "print(nlp(\"Granallado abrasivo\")._.language)"
   ]
  },
  {
   "cell_type": "code",
   "execution_count": null,
   "id": "3b0fc515",
   "metadata": {},
   "outputs": [],
   "source": [
    "# Opption2 - prints out 'en' part only.\n",
    "import spacy\n",
    "from spacy.language import Language\n",
    "from spacy_langdetect import LanguageDetector\n",
    "\n",
    "def get_lang_detector(nlp, name):\n",
    "    return LanguageDetector()\n",
    "\n",
    "nlp = spacy.load(\"en_core_web_lg\")\n",
    "nlp.add_pipe('language_detector', last=True)\n",
    "lang_dict = nlp(\"Granallado abrasivo\")._.language\n",
    "lang_code = lang_dict['language']\n",
    "print(lang_code)"
   ]
  },
  {
   "cell_type": "code",
   "execution_count": null,
   "id": "d9425f87",
   "metadata": {},
   "outputs": [],
   "source": [
    "df2 = pd.DataFrame()\n",
    "df2 = df1[df1.clashing_field == 'skill_ja_jp']\n",
    "df2"
   ]
  }
 ],
 "metadata": {
  "kernelspec": {
   "display_name": "Python 3 (ipykernel)",
   "language": "python",
   "name": "python3"
  },
  "language_info": {
   "codemirror_mode": {
    "name": "ipython",
    "version": 3
   },
   "file_extension": ".py",
   "mimetype": "text/x-python",
   "name": "python",
   "nbconvert_exporter": "python",
   "pygments_lexer": "ipython3",
   "version": "3.11.5"
  }
 },
 "nbformat": 4,
 "nbformat_minor": 5
}
