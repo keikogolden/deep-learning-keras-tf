{
 "cells": [
  {
   "cell_type": "code",
   "execution_count": null,
   "id": "fe35bc79",
   "metadata": {},
   "outputs": [],
   "source": [
    "import pandas as pd\n",
    "\n",
    "file_path= \"your file path\"\n",
    "\n",
    "df = pd.read_excel(file_path)"
   ]
  },
  {
   "cell_type": "code",
   "execution_count": null,
   "id": "09e49534",
   "metadata": {},
   "outputs": [],
   "source": [
    "definitions = []\n",
    "for index, row in df.iterrows():\n",
    "    if row.updated_definition=='na':\n",
    "        definitions.append(row.skill_definition)\n",
    "    else:\n",
    "        definitions.append(row.updated_definition)\n"
   ]
  },
  {
   "cell_type": "code",
   "execution_count": null,
   "id": "4cb9cade",
   "metadata": {},
   "outputs": [],
   "source": [
    "df['definition_combined'] = definitions"
   ]
  },
  {
   "cell_type": "code",
   "execution_count": null,
   "id": "60527d57",
   "metadata": {},
   "outputs": [],
   "source": [
    "import re\n",
    "\n",
    "checkpoints = []\n",
    "\n",
    "\n",
    "for index, row in df.iterrows():\n",
    "    \n",
    "\n",
    "    base_form = row.base_form\n",
    "    definition = row.definition_combined\n",
    "    \n",
    "\n",
    "    base_form_tokens = base_form.split(' ')\n",
    "    definition_tokens = definition.split(' ')\n",
    "    first_def = definition_tokens[0]     \n",
    "    first_base = base_form_tokens[0].title()\n",
    "    \n",
    "    \n",
    "    matches = re.search(str(base_form), str(definition))\n",
    "    #check_bool = str(base_form) in str(definition)\n",
    "    \n",
    "    if matches:\n",
    "        checkpoints.append('no need to fix')\n",
    "    \n",
    "    elif first_def ==  first_base:   \n",
    "        checkpoints.append('no need to fix')\n",
    "        \n",
    "    elif first_def == 'A' or first_def == \"The\" or first_def == \"An\":\n",
    "        checkpoints.append('no need to fix')\n",
    "    \n",
    "    elif first_def == base_form_tokens[len(base_form_tokens)-1].title()+',' or first_def == base_form_tokens[len(base_form_tokens)-1]+',':\n",
    "        checkpoints.append('no need to fix')\n",
    "        \n",
    "    else:\n",
    "        checkpoints.append(definition)\n",
    " "
   ]
  },
  {
   "cell_type": "code",
   "execution_count": null,
   "id": "cf9dd642",
   "metadata": {},
   "outputs": [],
   "source": [
    "df['checkpoints_3'] = checkpoints"
   ]
  },
  {
   "cell_type": "code",
   "execution_count": null,
   "id": "2a2a7a8c",
   "metadata": {},
   "outputs": [],
   "source": [
    "df = df.drop(columns=['definition_combined'])"
   ]
  },
  {
   "cell_type": "code",
   "execution_count": null,
   "id": "8296d644",
   "metadata": {},
   "outputs": [],
   "source": [
    "df.to_excel(\"output.xlsx\")"
   ]
  },
  {
   "cell_type": "code",
   "execution_count": null,
   "id": "bcb3e271",
   "metadata": {},
   "outputs": [],
   "source": []
  },
  {
   "cell_type": "code",
   "execution_count": null,
   "id": "25d65459",
   "metadata": {},
   "outputs": [],
   "source": []
  },
  {
   "cell_type": "code",
   "execution_count": null,
   "id": "653d94d4",
   "metadata": {},
   "outputs": [],
   "source": []
  },
  {
   "cell_type": "code",
   "execution_count": null,
   "id": "88521a72",
   "metadata": {},
   "outputs": [],
   "source": []
  },
  {
   "cell_type": "code",
   "execution_count": null,
   "id": "0c4c4529",
   "metadata": {},
   "outputs": [],
   "source": []
  }
 ],
 "metadata": {
  "kernelspec": {
   "display_name": "Python 3 (ipykernel)",
   "language": "python",
   "name": "python3"
  },
  "language_info": {
   "codemirror_mode": {
    "name": "ipython",
    "version": 3
   },
   "file_extension": ".py",
   "mimetype": "text/x-python",
   "name": "python",
   "nbconvert_exporter": "python",
   "pygments_lexer": "ipython3",
   "version": "3.9.12"
  }
 },
 "nbformat": 4,
 "nbformat_minor": 5
}
