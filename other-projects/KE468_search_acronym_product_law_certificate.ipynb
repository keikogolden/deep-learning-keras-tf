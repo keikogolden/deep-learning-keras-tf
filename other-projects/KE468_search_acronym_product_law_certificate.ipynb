{
 "cells": [
  {
   "cell_type": "code",
   "execution_count": null,
   "id": "4810948d",
   "metadata": {},
   "outputs": [],
   "source": [
    "import pandas as pd\n",
    "\n",
    "file_path= \"your input file path\"\n",
    "df = pd.read_excel(file_path)"
   ]
  },
  {
   "cell_type": "code",
   "execution_count": null,
   "id": "a0fb6267",
   "metadata": {},
   "outputs": [],
   "source": [
    "definitions = []\n",
    "for index, row in df.iterrows():\n",
    "    if row.updated_definition=='na':\n",
    "        definitions.append(row.skill_definition)\n",
    "    else:\n",
    "        definitions.append(row.updated_definition)\n",
    "        \n",
    "df['definition_combined'] = definitions"
   ]
  },
  {
   "cell_type": "code",
   "execution_count": null,
   "id": "ef5519bb",
   "metadata": {},
   "outputs": [],
   "source": [
    "import re\n",
    "\n",
    "reviews = []\n",
    "products = []\n",
    "\n",
    "\n",
    "for index, row in df.iterrows():\n",
    "    regex1 = r'''[A-Z]'''\n",
    "    regex2 = r'''is\\sa\\s(product|software)'''\n",
    "    regex3 = r'''(certif)'''\n",
    "    regex4 = r'''is\\sa\\s(law|act|regulation)(\\s|$|\\.)'''\n",
    "    regex5 = r'''is\\sa\\s(standard)'''\n",
    "    regex6 = r'''^[a-zA-Z]+([A-Z][a-z]+)'''\n",
    "    regex7 = r'''\\.{1}'''\n",
    "    \n",
    "    base = str(row.base_form)\n",
    "    definition = str(row.definition_combined)\n",
    "    definition_tokens = definition.split('.')\n",
    "    definition_first_sent = definition_tokens[0]\n",
    "     \n",
    "    match1 = re.search(regex1, base)\n",
    "    match2 = re.search(regex2, definition_first_sent)\n",
    "    match3 = re.search(regex3, definition_first_sent)\n",
    "    match4 = re.search(regex4, definition_first_sent)\n",
    "    match5 = re.search(regex5, definition_first_sent)\n",
    "    match6 = re.search(regex6, base)\n",
    "    match7 = re.search(regex7, base)\n",
    "    \n",
    "    if match1:\n",
    "        reviews.append('TRUE')\n",
    "    else:    \n",
    "        reviews.append('FALSE')\n",
    "        \n",
    "        \n",
    "    if match2:\n",
    "        products.append('product')\n",
    "        \n",
    "    elif match3:\n",
    "        products.append('certificate')  \n",
    "        \n",
    "    #elif match4:\n",
    "        #products.append('law')  \n",
    "        \n",
    "    #elif match5:\n",
    "        #products.append('standard')  \n",
    "    \n",
    "    elif match6:\n",
    "        products.append(base) \n",
    "        \n",
    "    elif match7:\n",
    "        products.append(base) \n",
    "        \n",
    "    else:\n",
    "        products.append(\"\")\n",
    "        "
   ]
  },
  {
   "cell_type": "code",
   "execution_count": null,
   "id": "09add0a3",
   "metadata": {},
   "outputs": [],
   "source": [
    "df['capital_in_base'] = reviews"
   ]
  },
  {
   "cell_type": "code",
   "execution_count": null,
   "id": "19d24024",
   "metadata": {},
   "outputs": [],
   "source": [
    "df['everything'] = products"
   ]
  },
  {
   "cell_type": "code",
   "execution_count": null,
   "id": "436bdca8",
   "metadata": {},
   "outputs": [],
   "source": [
    "df = df.drop(columns=['definition_combined'])"
   ]
  },
  {
   "cell_type": "code",
   "execution_count": null,
   "id": "68f545f1",
   "metadata": {},
   "outputs": [],
   "source": [
    "df.to_excel(\"output.xlsx\")"
   ]
  },
  {
   "cell_type": "code",
   "execution_count": null,
   "id": "abeba5e9",
   "metadata": {},
   "outputs": [],
   "source": []
  }
 ],
 "metadata": {
  "kernelspec": {
   "display_name": "Python 3 (ipykernel)",
   "language": "python",
   "name": "python3"
  },
  "language_info": {
   "codemirror_mode": {
    "name": "ipython",
    "version": 3
   },
   "file_extension": ".py",
   "mimetype": "text/x-python",
   "name": "python",
   "nbconvert_exporter": "python",
   "pygments_lexer": "ipython3",
   "version": "3.11.5"
  }
 },
 "nbformat": 4,
 "nbformat_minor": 5
}
