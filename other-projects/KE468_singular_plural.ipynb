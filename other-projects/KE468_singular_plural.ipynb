{
 "cells": [
  {
   "cell_type": "code",
   "execution_count": 5,
   "id": "5b056dda",
   "metadata": {},
   "outputs": [],
   "source": [
    "import pandas as pd\n",
    "import spacy\n",
    "\n",
    "nlp = spacy.load('en_core_web_lg')"
   ]
  },
  {
   "cell_type": "code",
   "execution_count": 6,
   "id": "a850a485",
   "metadata": {},
   "outputs": [],
   "source": [
    "df = pd.read_excel(\"C:/Users/KeikoGolden/ComputationalLiguistics/KE468_ProEdgeEMSI_titlede_finition _review/singular_plural/spellcheck_resolved_10192023.xlsx\")"
   ]
  },
  {
   "cell_type": "code",
   "execution_count": 7,
   "id": "dd36378f",
   "metadata": {},
   "outputs": [
    {
     "data": {
      "text/plain": [
       "Index(['SkyHive Skill', 'mongo_id', 'uuid', 'skill definition', 'skill_type'], dtype='object')"
      ]
     },
     "execution_count": 7,
     "metadata": {},
     "output_type": "execute_result"
    }
   ],
   "source": [
    "df.columns"
   ]
  },
  {
   "cell_type": "markdown",
   "id": "d471b49b",
   "metadata": {},
   "source": [
    "### Using morph - doesn't work"
   ]
  },
  {
   "cell_type": "code",
   "execution_count": 13,
   "id": "030577b2",
   "metadata": {},
   "outputs": [],
   "source": [
    "#morph doesn't work at all.Do not use this.\n",
    "sing_plur = []\n",
    "for skill in df['SkyHive Skill'].tolist():\n",
    "    doc = nlp(skill)\n",
    "    last_token = doc[len(doc)-1]\n",
    "    results = last_token.morph.get('Number')\n",
    "    if 'sing' in results:\n",
    "        sing_plur.append('sing')\n",
    "    elif 'plur' in results:\n",
    "        sing_plur.append('plur')\n",
    "    else:\n",
    "        sing_plur.append('')\n",
    "        "
   ]
  },
  {
   "cell_type": "code",
   "execution_count": 14,
   "id": "daeadc49",
   "metadata": {},
   "outputs": [],
   "source": [
    "df['sing_plur'] = sing_plur"
   ]
  },
  {
   "cell_type": "code",
   "execution_count": 15,
   "id": "f99294c5",
   "metadata": {},
   "outputs": [],
   "source": [
    "df.to_excel(\"C:/Users/KeikoGolden/ComputationalLiguistics/KE468_ProEdgeEMSI_titlede_finition _review/singular_plural/spellcheck_resolved_10192023_sing_Plur.xlsx\")"
   ]
  },
  {
   "cell_type": "markdown",
   "id": "80286fd8",
   "metadata": {},
   "source": [
    "### Using inflect - DO not use. 80% accurate"
   ]
  },
  {
   "cell_type": "code",
   "execution_count": 53,
   "id": "c2113f1a",
   "metadata": {},
   "outputs": [
    {
     "name": "stdout",
     "output_type": "stream",
     "text": [
      "Requirement already satisfied: pip in c:\\users\\keikogolden\\anaconda3\\lib\\site-packages (23.3)\n",
      "Note: you may need to restart the kernel to use updated packages.\n"
     ]
    },
    {
     "name": "stderr",
     "output_type": "stream",
     "text": [
      "WARNING: There was an error checking the latest version of pip.\n"
     ]
    }
   ],
   "source": [
    "pip install --upgrade pip"
   ]
  },
  {
   "cell_type": "code",
   "execution_count": 22,
   "id": "254dfa56",
   "metadata": {},
   "outputs": [
    {
     "name": "stdout",
     "output_type": "stream",
     "text": [
      "Collecting inflect\n",
      "  Downloading inflect-7.0.0-py3-none-any.whl.metadata (21 kB)\n",
      "Requirement already satisfied: pydantic>=1.9.1 in c:\\users\\keikogolden\\anaconda3\\lib\\site-packages (from inflect) (2.4.2)\n",
      "Requirement already satisfied: typing-extensions in c:\\users\\keikogolden\\anaconda3\\lib\\site-packages (from inflect) (4.8.0)\n",
      "Requirement already satisfied: annotated-types>=0.4.0 in c:\\users\\keikogolden\\anaconda3\\lib\\site-packages (from pydantic>=1.9.1->inflect) (0.6.0)\n",
      "Requirement already satisfied: pydantic-core==2.10.1 in c:\\users\\keikogolden\\anaconda3\\lib\\site-packages (from pydantic>=1.9.1->inflect) (2.10.1)\n",
      "Downloading inflect-7.0.0-py3-none-any.whl (34 kB)\n",
      "Installing collected packages: inflect\n",
      "Successfully installed inflect-7.0.0\n",
      "Note: you may need to restart the kernel to use updated packages.\n"
     ]
    },
    {
     "name": "stderr",
     "output_type": "stream",
     "text": [
      "WARNING: There was an error checking the latest version of pip.\n"
     ]
    }
   ],
   "source": [
    "pip install inflect"
   ]
  },
  {
   "cell_type": "code",
   "execution_count": 23,
   "id": "fccfc39c",
   "metadata": {},
   "outputs": [],
   "source": [
    "import inflect\n",
    "p = inflect.engine()"
   ]
  },
  {
   "cell_type": "code",
   "execution_count": 34,
   "id": "e23df8c9",
   "metadata": {},
   "outputs": [],
   "source": [
    "sing_plur = []\n",
    "for skill in df['SkyHive Skill'].tolist():\n",
    "    doc = nlp(skill)\n",
    "    last_token = doc[len(doc)-1].text\n",
    "    if last_token == p.plural(last_token):\n",
    "        sing_plur.append('plur')\n",
    "    elif last_token != p.plural(last_token):\n",
    "        sing_plur.append('sing')\n",
    "    else:\n",
    "        sing_plur.append('')"
   ]
  },
  {
   "cell_type": "code",
   "execution_count": 37,
   "id": "f2143252",
   "metadata": {},
   "outputs": [],
   "source": [
    "df['inflect'] = sing_plur"
   ]
  },
  {
   "cell_type": "code",
   "execution_count": 38,
   "id": "8184ca37",
   "metadata": {},
   "outputs": [],
   "source": [
    "df.to_excel(\"C:/Users/KeikoGolden/ComputationalLiguistics/KE468_ProEdgeEMSI_titlede_finition _review/singular_plural/spellcheck_resolved_10192023_sing_Plur.xlsx\")"
   ]
  },
  {
   "cell_type": "markdown",
   "id": "4cc4fbe4",
   "metadata": {},
   "source": [
    "### Using Spacy _use this. Working perfect."
   ]
  },
  {
   "cell_type": "code",
   "execution_count": 79,
   "id": "aab2a061",
   "metadata": {},
   "outputs": [],
   "source": [
    "import re\n",
    "\n",
    "sing_plur = []\n",
    "for skill in df['SkyHive Skill'].tolist():\n",
    "    \n",
    "    doc = nlp(skill)\n",
    "    last_token = doc[len(doc)-1]\n",
    "    regex = r'''[a-zA-Z-\\.]+([A-Z]+[a-z]*)+''' #This matches with camelcase\n",
    "    match = re.search(regex, last_token.text)\n",
    "    \n",
    "    if match: #catch camelcased product name\n",
    "        sing_plur.append('')\n",
    "    elif last_token.pos_=='VERB' or last_token.pos_ == 'ADV' or last_token.pos_ == 'ADJ'or last_token.pos_ == 'PRON': #catch non nouns\n",
    "        sing_plur.append('')\n",
    "    elif last_token.text != last_token.text.title() and last_token.text != last_token.lemma_: #catch plural nouns\n",
    "        sing_plur.append('plur')\n",
    "    elif last_token.text == last_token.lemma_: # catch singular nouns\n",
    "        sing_plur.append('sing')     \n",
    "    else:\n",
    "        sing_plur.append('') "
   ]
  },
  {
   "cell_type": "code",
   "execution_count": 80,
   "id": "81baa8d2",
   "metadata": {},
   "outputs": [],
   "source": [
    "df['spacy'] = sing_plur"
   ]
  },
  {
   "cell_type": "code",
   "execution_count": 81,
   "id": "837481bd",
   "metadata": {},
   "outputs": [],
   "source": [
    "df.to_excel(\"C:/Users/KeikoGolden/ComputationalLiguistics/KE468_ProEdgeEMSI_titlede_finition _review/singular_plural/spellcheck_resolved_10192023_sing_Plur.xlsx\")"
   ]
  },
  {
   "cell_type": "code",
   "execution_count": null,
   "id": "d0aa8f86",
   "metadata": {},
   "outputs": [],
   "source": []
  },
  {
   "cell_type": "code",
   "execution_count": null,
   "id": "bd3d2480",
   "metadata": {},
   "outputs": [],
   "source": []
  },
  {
   "cell_type": "code",
   "execution_count": null,
   "id": "44a435e6",
   "metadata": {},
   "outputs": [],
   "source": []
  },
  {
   "cell_type": "code",
   "execution_count": null,
   "id": "059d22c9",
   "metadata": {},
   "outputs": [],
   "source": [
    "'cats' == p.plural('cat')"
   ]
  },
  {
   "cell_type": "code",
   "execution_count": 29,
   "id": "d6ad9b05",
   "metadata": {},
   "outputs": [
    {
     "data": {
      "text/plain": [
       "False"
      ]
     },
     "execution_count": 29,
     "metadata": {},
     "output_type": "execute_result"
    }
   ],
   "source": [
    "'cats' == p.plural('cats')"
   ]
  },
  {
   "cell_type": "code",
   "execution_count": 30,
   "id": "13ece89e",
   "metadata": {},
   "outputs": [
    {
     "data": {
      "text/plain": [
       "True"
      ]
     },
     "execution_count": 30,
     "metadata": {},
     "output_type": "execute_result"
    }
   ],
   "source": [
    "'cat' == p.plural('cats')"
   ]
  },
  {
   "cell_type": "code",
   "execution_count": null,
   "id": "a2ffe488",
   "metadata": {},
   "outputs": [],
   "source": []
  }
 ],
 "metadata": {
  "kernelspec": {
   "display_name": "Python 3 (ipykernel)",
   "language": "python",
   "name": "python3"
  },
  "language_info": {
   "codemirror_mode": {
    "name": "ipython",
    "version": 3
   },
   "file_extension": ".py",
   "mimetype": "text/x-python",
   "name": "python",
   "nbconvert_exporter": "python",
   "pygments_lexer": "ipython3",
   "version": "3.11.5"
  }
 },
 "nbformat": 4,
 "nbformat_minor": 5
}
