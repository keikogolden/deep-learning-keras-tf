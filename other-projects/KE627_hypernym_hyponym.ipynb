{
 "cells": [
  {
   "cell_type": "code",
   "execution_count": 24,
   "id": "fd329b5d",
   "metadata": {},
   "outputs": [],
   "source": [
    "import nltk\n",
    "from nltk.corpus import wordnet as wn"
   ]
  },
  {
   "cell_type": "markdown",
   "id": "6a22647b",
   "metadata": {},
   "source": [
    "# Exploring 1"
   ]
  },
  {
   "cell_type": "markdown",
   "id": "b4728a2b",
   "metadata": {},
   "source": [
    "Check to see how many synsets are there for \"stamina\" and \"resilience\" using syssets function."
   ]
  },
  {
   "cell_type": "code",
   "execution_count": 24,
   "id": "0848a5e0",
   "metadata": {},
   "outputs": [],
   "source": [
    "word1= wn.synsets(\"stamina\")\n",
    "word2 = wn.synsets(\"resilience\")"
   ]
  },
  {
   "cell_type": "markdown",
   "id": "ed5254f6",
   "metadata": {},
   "source": [
    "You see that the word1 has two synsets."
   ]
  },
  {
   "cell_type": "code",
   "execution_count": 25,
   "id": "eb3ba1b2",
   "metadata": {},
   "outputs": [
    {
     "data": {
      "text/plain": [
       "[Synset('stamina.n.01'), Synset('stamen.n.01')]"
      ]
     },
     "execution_count": 25,
     "metadata": {},
     "output_type": "execute_result"
    }
   ],
   "source": [
    "word1"
   ]
  },
  {
   "cell_type": "markdown",
   "id": "3932b847",
   "metadata": {},
   "source": [
    "You see that the word2 has two sysnsets as well."
   ]
  },
  {
   "cell_type": "code",
   "execution_count": 26,
   "id": "6bef02fc",
   "metadata": {},
   "outputs": [
    {
     "data": {
      "text/plain": [
       "[Synset('resilience.n.01'), Synset('resilience.n.02')]"
      ]
     },
     "execution_count": 26,
     "metadata": {},
     "output_type": "execute_result"
    }
   ],
   "source": [
    "word2"
   ]
  },
  {
   "cell_type": "markdown",
   "id": "1aa84629",
   "metadata": {},
   "source": [
    "Check the hypernym path of the first sysnsets of word1."
   ]
  },
  {
   "cell_type": "code",
   "execution_count": 27,
   "id": "70cf6fb3",
   "metadata": {},
   "outputs": [
    {
     "data": {
      "text/plain": [
       "[[Synset('entity.n.01'),\n",
       "  Synset('abstraction.n.06'),\n",
       "  Synset('attribute.n.02'),\n",
       "  Synset('property.n.02'),\n",
       "  Synset('strength.n.01'),\n",
       "  Synset('endurance.n.01'),\n",
       "  Synset('stamina.n.01')]]"
      ]
     },
     "execution_count": 27,
     "metadata": {},
     "output_type": "execute_result"
    }
   ],
   "source": [
    "word1[0].hypernym_paths()"
   ]
  },
  {
   "cell_type": "markdown",
   "id": "58f5c3ea",
   "metadata": {},
   "source": [
    "Check the hypernym path of the second synsets of word1."
   ]
  },
  {
   "cell_type": "code",
   "execution_count": 28,
   "id": "48225bf6",
   "metadata": {},
   "outputs": [
    {
     "data": {
      "text/plain": [
       "[[Synset('entity.n.01'),\n",
       "  Synset('physical_entity.n.01'),\n",
       "  Synset('object.n.01'),\n",
       "  Synset('whole.n.02'),\n",
       "  Synset('natural_object.n.01'),\n",
       "  Synset('plant_part.n.01'),\n",
       "  Synset('plant_organ.n.01'),\n",
       "  Synset('reproductive_structure.n.01'),\n",
       "  Synset('stamen.n.01')]]"
      ]
     },
     "execution_count": 28,
     "metadata": {},
     "output_type": "execute_result"
    }
   ],
   "source": [
    "word1[1].hypernym_paths()"
   ]
  },
  {
   "cell_type": "markdown",
   "id": "7daa57e9",
   "metadata": {},
   "source": [
    "Check the hypernym path of the first sysnsets of word2."
   ]
  },
  {
   "cell_type": "code",
   "execution_count": 29,
   "id": "8e525191",
   "metadata": {},
   "outputs": [
    {
     "data": {
      "text/plain": [
       "[[Synset('entity.n.01'),\n",
       "  Synset('abstraction.n.06'),\n",
       "  Synset('attribute.n.02'),\n",
       "  Synset('property.n.02'),\n",
       "  Synset('physical_property.n.01'),\n",
       "  Synset('elasticity.n.01'),\n",
       "  Synset('resilience.n.01')]]"
      ]
     },
     "execution_count": 29,
     "metadata": {},
     "output_type": "execute_result"
    }
   ],
   "source": [
    "word2[0].hypernym_paths()"
   ]
  },
  {
   "cell_type": "markdown",
   "id": "a15fad27",
   "metadata": {},
   "source": [
    "Check the hypernym path of the second sysnsets of word2."
   ]
  },
  {
   "cell_type": "code",
   "execution_count": 30,
   "id": "3ff60856",
   "metadata": {},
   "outputs": [
    {
     "data": {
      "text/plain": [
       "[[Synset('entity.n.01'),\n",
       "  Synset('abstraction.n.06'),\n",
       "  Synset('psychological_feature.n.01'),\n",
       "  Synset('event.n.01'),\n",
       "  Synset('happening.n.01'),\n",
       "  Synset('movement.n.03'),\n",
       "  Synset('recoil.n.02'),\n",
       "  Synset('resilience.n.02')]]"
      ]
     },
     "execution_count": 30,
     "metadata": {},
     "output_type": "execute_result"
    }
   ],
   "source": [
    "word2[1].hypernym_paths()"
   ]
  },
  {
   "cell_type": "markdown",
   "id": "a7ffd267",
   "metadata": {},
   "source": [
    "Check the similarity score of the first synsets of word1 and the first synsets of word2."
   ]
  },
  {
   "cell_type": "code",
   "execution_count": 34,
   "id": "b555e3d3",
   "metadata": {},
   "outputs": [
    {
     "data": {
      "text/plain": [
       "0.14285714285714285"
      ]
     },
     "execution_count": 34,
     "metadata": {},
     "output_type": "execute_result"
    }
   ],
   "source": [
    "word1[0].path_similarity(word2[0])"
   ]
  },
  {
   "cell_type": "markdown",
   "id": "1ec7a509",
   "metadata": {},
   "source": [
    "# Exploring 2"
   ]
  },
  {
   "cell_type": "code",
   "execution_count": 10,
   "id": "8e0e79a0",
   "metadata": {},
   "outputs": [],
   "source": [
    "word1= wn.synsets(\"optimize\")\n",
    "word2 = wn.synsets(\"update\")"
   ]
  },
  {
   "cell_type": "code",
   "execution_count": 11,
   "id": "2937018a",
   "metadata": {},
   "outputs": [
    {
     "data": {
      "text/plain": [
       "[Synset('optimize.v.01'), Synset('optimize.v.02'), Synset('optimize.v.03')]"
      ]
     },
     "execution_count": 11,
     "metadata": {},
     "output_type": "execute_result"
    }
   ],
   "source": [
    "word1"
   ]
  },
  {
   "cell_type": "code",
   "execution_count": 12,
   "id": "79045c40",
   "metadata": {},
   "outputs": [
    {
     "data": {
      "text/plain": [
       "[Synset('update.n.01'),\n",
       " Synset('update.v.01'),\n",
       " Synset('update.v.02'),\n",
       " Synset('update.v.03')]"
      ]
     },
     "execution_count": 12,
     "metadata": {},
     "output_type": "execute_result"
    }
   ],
   "source": [
    "word2"
   ]
  },
  {
   "cell_type": "code",
   "execution_count": 15,
   "id": "bf1f43e1",
   "metadata": {},
   "outputs": [
    {
     "data": {
      "text/plain": [
       "[[Synset('change.v.01'),\n",
       "  Synset('better.v.02'),\n",
       "  Synset('perfect.v.01'),\n",
       "  Synset('optimize.v.01')]]"
      ]
     },
     "execution_count": 15,
     "metadata": {},
     "output_type": "execute_result"
    }
   ],
   "source": [
    "word1[0].hypernym_paths()"
   ]
  },
  {
   "cell_type": "code",
   "execution_count": 16,
   "id": "5c0c2210",
   "metadata": {},
   "outputs": [
    {
     "data": {
      "text/plain": [
       "[[Synset('change.v.02'), Synset('modify.v.01'), Synset('optimize.v.02')]]"
      ]
     },
     "execution_count": 16,
     "metadata": {},
     "output_type": "execute_result"
    }
   ],
   "source": [
    "word1[1].hypernym_paths()"
   ]
  },
  {
   "cell_type": "code",
   "execution_count": 17,
   "id": "a8655d8d",
   "metadata": {},
   "outputs": [
    {
     "data": {
      "text/plain": [
       "[[Synset('act.v.02'), Synset('optimize.v.03')]]"
      ]
     },
     "execution_count": 17,
     "metadata": {},
     "output_type": "execute_result"
    }
   ],
   "source": [
    "word1[2].hypernym_paths()"
   ]
  },
  {
   "cell_type": "code",
   "execution_count": 18,
   "id": "481e0efa",
   "metadata": {},
   "outputs": [
    {
     "data": {
      "text/plain": [
       "[[Synset('entity.n.01'),\n",
       "  Synset('abstraction.n.06'),\n",
       "  Synset('communication.n.02'),\n",
       "  Synset('message.n.02'),\n",
       "  Synset('information.n.01'),\n",
       "  Synset('news.n.01'),\n",
       "  Synset('update.n.01')]]"
      ]
     },
     "execution_count": 18,
     "metadata": {},
     "output_type": "execute_result"
    }
   ],
   "source": [
    "word2[0].hypernym_paths()"
   ]
  },
  {
   "cell_type": "code",
   "execution_count": 19,
   "id": "b288f3a5",
   "metadata": {},
   "outputs": [
    {
     "data": {
      "text/plain": [
       "[[Synset('change.v.02'), Synset('modify.v.01'), Synset('update.v.01')]]"
      ]
     },
     "execution_count": 19,
     "metadata": {},
     "output_type": "execute_result"
    }
   ],
   "source": [
    "word2[1].hypernym_paths()"
   ]
  },
  {
   "cell_type": "code",
   "execution_count": 20,
   "id": "ad4ede7e",
   "metadata": {},
   "outputs": [
    {
     "data": {
      "text/plain": [
       "[[Synset('act.v.01'),\n",
       "  Synset('interact.v.01'),\n",
       "  Synset('communicate.v.02'),\n",
       "  Synset('inform.v.01'),\n",
       "  Synset('update.v.02')]]"
      ]
     },
     "execution_count": 20,
     "metadata": {},
     "output_type": "execute_result"
    }
   ],
   "source": [
    "word2[2].hypernym_paths()"
   ]
  },
  {
   "cell_type": "code",
   "execution_count": 21,
   "id": "d6a366aa",
   "metadata": {},
   "outputs": [
    {
     "data": {
      "text/plain": [
       "[[Synset('change.v.02'), Synset('modify.v.01'), Synset('update.v.03')]]"
      ]
     },
     "execution_count": 21,
     "metadata": {},
     "output_type": "execute_result"
    }
   ],
   "source": [
    "word2[3].hypernym_paths()"
   ]
  },
  {
   "cell_type": "code",
   "execution_count": 35,
   "id": "869f4381",
   "metadata": {},
   "outputs": [
    {
     "data": {
      "text/plain": [
       "0.08333333333333333"
      ]
     },
     "execution_count": 35,
     "metadata": {},
     "output_type": "execute_result"
    }
   ],
   "source": [
    "word1[0].path_similarity(word2[1])"
   ]
  },
  {
   "cell_type": "markdown",
   "id": "85a49aef",
   "metadata": {},
   "source": [
    "# Exploring 3"
   ]
  },
  {
   "cell_type": "code",
   "execution_count": 3,
   "id": "1f86c1f8",
   "metadata": {},
   "outputs": [],
   "source": [
    "word1= wn.synsets(\"material\")\n",
    "word2 = wn.synsets(\"data\")"
   ]
  },
  {
   "cell_type": "code",
   "execution_count": 4,
   "id": "d2cd6aab",
   "metadata": {},
   "outputs": [
    {
     "data": {
      "text/plain": [
       "[Synset('material.n.01'),\n",
       " Synset('material.n.02'),\n",
       " Synset('fabric.n.01'),\n",
       " Synset('material.n.04'),\n",
       " Synset('material.n.05'),\n",
       " Synset('material.s.01'),\n",
       " Synset('material.a.02'),\n",
       " Synset('material.a.03'),\n",
       " Synset('material.s.04'),\n",
       " Synset('corporeal.a.01'),\n",
       " Synset('substantial.a.03')]"
      ]
     },
     "execution_count": 4,
     "metadata": {},
     "output_type": "execute_result"
    }
   ],
   "source": [
    "word1"
   ]
  },
  {
   "cell_type": "code",
   "execution_count": 5,
   "id": "3f7faf57",
   "metadata": {},
   "outputs": [
    {
     "data": {
      "text/plain": [
       "[Synset('data.n.01'), Synset('datum.n.01')]"
      ]
     },
     "execution_count": 5,
     "metadata": {},
     "output_type": "execute_result"
    }
   ],
   "source": [
    "word2"
   ]
  },
  {
   "cell_type": "code",
   "execution_count": 6,
   "id": "b5d5d58a",
   "metadata": {},
   "outputs": [
    {
     "data": {
      "text/plain": [
       "[[Synset('entity.n.01'),\n",
       "  Synset('physical_entity.n.01'),\n",
       "  Synset('matter.n.03'),\n",
       "  Synset('substance.n.01'),\n",
       "  Synset('material.n.01')],\n",
       " [Synset('entity.n.01'),\n",
       "  Synset('abstraction.n.06'),\n",
       "  Synset('relation.n.01'),\n",
       "  Synset('part.n.01'),\n",
       "  Synset('substance.n.01'),\n",
       "  Synset('material.n.01')]]"
      ]
     },
     "execution_count": 6,
     "metadata": {},
     "output_type": "execute_result"
    }
   ],
   "source": [
    "word1[0].hypernym_paths()"
   ]
  },
  {
   "cell_type": "code",
   "execution_count": 9,
   "id": "d4f83e2a",
   "metadata": {},
   "outputs": [
    {
     "data": {
      "text/plain": [
       "[[Synset('entity.n.01'),\n",
       "  Synset('abstraction.n.06'),\n",
       "  Synset('communication.n.02'),\n",
       "  Synset('message.n.02'),\n",
       "  Synset('information.n.01'),\n",
       "  Synset('material.n.02')]]"
      ]
     },
     "execution_count": 9,
     "metadata": {},
     "output_type": "execute_result"
    }
   ],
   "source": [
    "word1[1].hypernym_paths()"
   ]
  },
  {
   "cell_type": "code",
   "execution_count": 10,
   "id": "34b8a2b0",
   "metadata": {},
   "outputs": [
    {
     "data": {
      "text/plain": [
       "[[Synset('entity.n.01'),\n",
       "  Synset('physical_entity.n.01'),\n",
       "  Synset('object.n.01'),\n",
       "  Synset('whole.n.02'),\n",
       "  Synset('artifact.n.01'),\n",
       "  Synset('fabric.n.01')]]"
      ]
     },
     "execution_count": 10,
     "metadata": {},
     "output_type": "execute_result"
    }
   ],
   "source": [
    "word1[2].hypernym_paths()"
   ]
  },
  {
   "cell_type": "code",
   "execution_count": 13,
   "id": "0eb41770",
   "metadata": {},
   "outputs": [
    {
     "data": {
      "text/plain": [
       "[[Synset('entity.n.01'),\n",
       "  Synset('physical_entity.n.01'),\n",
       "  Synset('object.n.01'),\n",
       "  Synset('whole.n.02'),\n",
       "  Synset('artifact.n.01'),\n",
       "  Synset('instrumentality.n.03'),\n",
       "  Synset('equipment.n.01'),\n",
       "  Synset('material.n.04')]]"
      ]
     },
     "execution_count": 13,
     "metadata": {},
     "output_type": "execute_result"
    }
   ],
   "source": [
    "word1[3].hypernym_paths()"
   ]
  },
  {
   "cell_type": "code",
   "execution_count": 12,
   "id": "4cbd2e61",
   "metadata": {},
   "outputs": [
    {
     "data": {
      "text/plain": [
       "[[Synset('entity.n.01'),\n",
       "  Synset('physical_entity.n.01'),\n",
       "  Synset('causal_agent.n.01'),\n",
       "  Synset('person.n.01'),\n",
       "  Synset('applicant.n.01'),\n",
       "  Synset('material.n.05')],\n",
       " [Synset('entity.n.01'),\n",
       "  Synset('physical_entity.n.01'),\n",
       "  Synset('object.n.01'),\n",
       "  Synset('whole.n.02'),\n",
       "  Synset('living_thing.n.01'),\n",
       "  Synset('organism.n.01'),\n",
       "  Synset('person.n.01'),\n",
       "  Synset('applicant.n.01'),\n",
       "  Synset('material.n.05')]]"
      ]
     },
     "execution_count": 12,
     "metadata": {},
     "output_type": "execute_result"
    }
   ],
   "source": [
    "word1[4].hypernym_paths()"
   ]
  },
  {
   "cell_type": "code",
   "execution_count": 14,
   "id": "13c62334",
   "metadata": {},
   "outputs": [
    {
     "data": {
      "text/plain": [
       "[[Synset('material.s.01')]]"
      ]
     },
     "execution_count": 14,
     "metadata": {},
     "output_type": "execute_result"
    }
   ],
   "source": [
    "word1[5].hypernym_paths()"
   ]
  },
  {
   "cell_type": "code",
   "execution_count": 15,
   "id": "6a2310f8",
   "metadata": {},
   "outputs": [
    {
     "data": {
      "text/plain": [
       "[[Synset('material.a.02')]]"
      ]
     },
     "execution_count": 15,
     "metadata": {},
     "output_type": "execute_result"
    }
   ],
   "source": [
    "word1[6].hypernym_paths()"
   ]
  },
  {
   "cell_type": "code",
   "execution_count": 7,
   "id": "3f69b065",
   "metadata": {},
   "outputs": [
    {
     "data": {
      "text/plain": [
       "[[Synset('entity.n.01'),\n",
       "  Synset('abstraction.n.06'),\n",
       "  Synset('group.n.01'),\n",
       "  Synset('collection.n.01'),\n",
       "  Synset('data.n.01')]]"
      ]
     },
     "execution_count": 7,
     "metadata": {},
     "output_type": "execute_result"
    }
   ],
   "source": [
    "word2[0].hypernym_paths()"
   ]
  },
  {
   "cell_type": "code",
   "execution_count": 8,
   "id": "15fd4ae3",
   "metadata": {},
   "outputs": [
    {
     "data": {
      "text/plain": [
       "[[Synset('entity.n.01'),\n",
       "  Synset('abstraction.n.06'),\n",
       "  Synset('psychological_feature.n.01'),\n",
       "  Synset('cognition.n.01'),\n",
       "  Synset('information.n.02'),\n",
       "  Synset('datum.n.01')]]"
      ]
     },
     "execution_count": 8,
     "metadata": {},
     "output_type": "execute_result"
    }
   ],
   "source": [
    "word2[1].hypernym_paths()"
   ]
  },
  {
   "cell_type": "code",
   "execution_count": 25,
   "id": "ce1a7275",
   "metadata": {},
   "outputs": [],
   "source": [
    "word1= wn.synsets(\"compliance\")\n",
    "word2 = wn.synsets(\"management\")"
   ]
  },
  {
   "cell_type": "code",
   "execution_count": 27,
   "id": "f0941b33",
   "metadata": {},
   "outputs": [
    {
     "data": {
      "text/plain": [
       "[Synset('conformity.n.02'),\n",
       " Synset('complaisance.n.01'),\n",
       " Synset('submission.n.02')]"
      ]
     },
     "execution_count": 27,
     "metadata": {},
     "output_type": "execute_result"
    }
   ],
   "source": [
    "word1"
   ]
  },
  {
   "cell_type": "code",
   "execution_count": 28,
   "id": "dd36ef6c",
   "metadata": {},
   "outputs": [
    {
     "data": {
      "text/plain": [
       "[Synset('management.n.01'), Synset('management.n.02')]"
      ]
     },
     "execution_count": 28,
     "metadata": {},
     "output_type": "execute_result"
    }
   ],
   "source": [
    "word2"
   ]
  },
  {
   "cell_type": "code",
   "execution_count": 29,
   "id": "31ec1d5d",
   "metadata": {},
   "outputs": [
    {
     "data": {
      "text/plain": [
       "[[Synset('entity.n.01'),\n",
       "  Synset('abstraction.n.06'),\n",
       "  Synset('psychological_feature.n.01'),\n",
       "  Synset('event.n.01'),\n",
       "  Synset('act.n.02'),\n",
       "  Synset('group_action.n.01'),\n",
       "  Synset('cooperation.n.01'),\n",
       "  Synset('conformity.n.02')],\n",
       " [Synset('entity.n.01'),\n",
       "  Synset('abstraction.n.06'),\n",
       "  Synset('psychological_feature.n.01'),\n",
       "  Synset('event.n.01'),\n",
       "  Synset('group_action.n.01'),\n",
       "  Synset('cooperation.n.01'),\n",
       "  Synset('conformity.n.02')]]"
      ]
     },
     "execution_count": 29,
     "metadata": {},
     "output_type": "execute_result"
    }
   ],
   "source": [
    "word1[0].hypernym_paths()"
   ]
  },
  {
   "cell_type": "code",
   "execution_count": 30,
   "id": "016658cb",
   "metadata": {},
   "outputs": [
    {
     "data": {
      "text/plain": [
       "[[Synset('entity.n.01'),\n",
       "  Synset('abstraction.n.06'),\n",
       "  Synset('attribute.n.02'),\n",
       "  Synset('trait.n.01'),\n",
       "  Synset('nature.n.04'),\n",
       "  Synset('disposition.n.01'),\n",
       "  Synset('agreeableness.n.02'),\n",
       "  Synset('complaisance.n.01')]]"
      ]
     },
     "execution_count": 30,
     "metadata": {},
     "output_type": "execute_result"
    }
   ],
   "source": [
    "word1[1].hypernym_paths()"
   ]
  },
  {
   "cell_type": "code",
   "execution_count": 31,
   "id": "72735175",
   "metadata": {},
   "outputs": [
    {
     "data": {
      "text/plain": [
       "[[Synset('entity.n.01'),\n",
       "  Synset('abstraction.n.06'),\n",
       "  Synset('psychological_feature.n.01'),\n",
       "  Synset('event.n.01'),\n",
       "  Synset('act.n.02'),\n",
       "  Synset('group_action.n.01'),\n",
       "  Synset('submission.n.02')],\n",
       " [Synset('entity.n.01'),\n",
       "  Synset('abstraction.n.06'),\n",
       "  Synset('psychological_feature.n.01'),\n",
       "  Synset('event.n.01'),\n",
       "  Synset('group_action.n.01'),\n",
       "  Synset('submission.n.02')]]"
      ]
     },
     "execution_count": 31,
     "metadata": {},
     "output_type": "execute_result"
    }
   ],
   "source": [
    "word1[2].hypernym_paths()"
   ]
  },
  {
   "cell_type": "code",
   "execution_count": 32,
   "id": "33009656",
   "metadata": {},
   "outputs": [
    {
     "data": {
      "text/plain": [
       "[[Synset('entity.n.01'),\n",
       "  Synset('abstraction.n.06'),\n",
       "  Synset('psychological_feature.n.01'),\n",
       "  Synset('event.n.01'),\n",
       "  Synset('act.n.02'),\n",
       "  Synset('group_action.n.01'),\n",
       "  Synset('social_control.n.01'),\n",
       "  Synset('management.n.01')],\n",
       " [Synset('entity.n.01'),\n",
       "  Synset('abstraction.n.06'),\n",
       "  Synset('psychological_feature.n.01'),\n",
       "  Synset('event.n.01'),\n",
       "  Synset('group_action.n.01'),\n",
       "  Synset('social_control.n.01'),\n",
       "  Synset('management.n.01')]]"
      ]
     },
     "execution_count": 32,
     "metadata": {},
     "output_type": "execute_result"
    }
   ],
   "source": [
    "word2[0].hypernym_paths()"
   ]
  },
  {
   "cell_type": "code",
   "execution_count": 33,
   "id": "b650c445",
   "metadata": {},
   "outputs": [
    {
     "data": {
      "text/plain": [
       "[[Synset('entity.n.01'),\n",
       "  Synset('abstraction.n.06'),\n",
       "  Synset('group.n.01'),\n",
       "  Synset('social_group.n.01'),\n",
       "  Synset('body.n.02'),\n",
       "  Synset('administration.n.02'),\n",
       "  Synset('management.n.02')]]"
      ]
     },
     "execution_count": 33,
     "metadata": {},
     "output_type": "execute_result"
    }
   ],
   "source": [
    "word2[1].hypernym_paths()"
   ]
  },
  {
   "cell_type": "code",
   "execution_count": null,
   "id": "3960f9e4",
   "metadata": {},
   "outputs": [],
   "source": []
  }
 ],
 "metadata": {
  "kernelspec": {
   "display_name": "Python 3 (ipykernel)",
   "language": "python",
   "name": "python3"
  },
  "language_info": {
   "codemirror_mode": {
    "name": "ipython",
    "version": 3
   },
   "file_extension": ".py",
   "mimetype": "text/x-python",
   "name": "python",
   "nbconvert_exporter": "python",
   "pygments_lexer": "ipython3",
   "version": "3.9.12"
  }
 },
 "nbformat": 4,
 "nbformat_minor": 5
}
