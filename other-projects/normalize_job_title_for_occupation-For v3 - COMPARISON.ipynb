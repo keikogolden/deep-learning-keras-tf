{
 "cells": [
  {
   "cell_type": "code",
   "execution_count": 22,
   "id": "e92a1393",
   "metadata": {},
   "outputs": [],
   "source": [
    "import seaborn as sn\n",
    "import pandas as pd\n",
    "import numpy as np"
   ]
  },
  {
   "cell_type": "code",
   "execution_count": 23,
   "id": "1bb4b512",
   "metadata": {},
   "outputs": [],
   "source": [
    "spacy_df = pd.read_excel('left_over_jt_normalized_by_spacy.xlsx')\n",
    "bert75_df = pd.read_excel('BERT_75.xlsx')\n",
    "bert80_df = pd.read_excel('BERT_80.xlsx')\n",
    "bert_detailed_title_df_75 = pd.read_excel('bert_detailed_title75.xlsx')"
   ]
  },
  {
   "cell_type": "code",
   "execution_count": 24,
   "id": "f44a194b",
   "metadata": {},
   "outputs": [],
   "source": [
    "def remove_brackets(x):\n",
    "    res = str(x)[2:-2]\n",
    "    return float(res)"
   ]
  },
  {
   "cell_type": "code",
   "execution_count": 25,
   "id": "535c289d",
   "metadata": {},
   "outputs": [],
   "source": [
    "bert75_df['new_score'] = bert75_df.score.apply(remove_brackets).copy()"
   ]
  },
  {
   "cell_type": "code",
   "execution_count": 26,
   "id": "d87239a7",
   "metadata": {},
   "outputs": [],
   "source": [
    "bert80_df['new_score'] = bert80_df.score.apply(remove_brackets).copy()"
   ]
  },
  {
   "cell_type": "markdown",
   "id": "de1a3bcf",
   "metadata": {},
   "source": [
    "# Data Length"
   ]
  },
  {
   "cell_type": "code",
   "execution_count": 27,
   "id": "d29af115",
   "metadata": {},
   "outputs": [
    {
     "data": {
      "text/plain": [
       "7041"
      ]
     },
     "execution_count": 27,
     "metadata": {},
     "output_type": "execute_result"
    }
   ],
   "source": [
    "len(spacy_df)"
   ]
  },
  {
   "cell_type": "code",
   "execution_count": 28,
   "id": "9282ee08",
   "metadata": {},
   "outputs": [
    {
     "data": {
      "text/plain": [
       "36873"
      ]
     },
     "execution_count": 28,
     "metadata": {},
     "output_type": "execute_result"
    }
   ],
   "source": [
    "len(bert75_df)"
   ]
  },
  {
   "cell_type": "code",
   "execution_count": 29,
   "id": "d224ad3f",
   "metadata": {},
   "outputs": [
    {
     "data": {
      "text/plain": [
       "10352"
      ]
     },
     "execution_count": 29,
     "metadata": {},
     "output_type": "execute_result"
    }
   ],
   "source": [
    "len(bert80_df)"
   ]
  },
  {
   "cell_type": "code",
   "execution_count": 30,
   "id": "68b80ca2",
   "metadata": {},
   "outputs": [
    {
     "data": {
      "text/plain": [
       "11968"
      ]
     },
     "execution_count": 30,
     "metadata": {},
     "output_type": "execute_result"
    }
   ],
   "source": [
    "len(bert_detailed_title_df_75)"
   ]
  },
  {
   "cell_type": "markdown",
   "id": "8e891fca",
   "metadata": {},
   "source": [
    "# Unique Values in Normalized Title"
   ]
  },
  {
   "cell_type": "code",
   "execution_count": 31,
   "id": "e7814399",
   "metadata": {},
   "outputs": [
    {
     "data": {
      "text/plain": [
       "manager of volunteer services    49\n",
       "process equipment engineer       38\n",
       "r&d engineer                     37\n",
       "classroom teacher                36\n",
       "research technician              35\n",
       "                                 ..\n",
       "registered nurse - nicu           1\n",
       "maintenance coordinator           1\n",
       "practice administrator            1\n",
       "user experience architect         1\n",
       "sous chef                         1\n",
       "Name: normalized_title, Length: 1183, dtype: int64"
      ]
     },
     "execution_count": 31,
     "metadata": {},
     "output_type": "execute_result"
    }
   ],
   "source": [
    "spacy_df.normalized_title.value_counts()"
   ]
  },
  {
   "cell_type": "code",
   "execution_count": 32,
   "id": "9fff5072",
   "metadata": {},
   "outputs": [
    {
     "data": {
      "text/plain": [
       "etch equipment engineer       151\n",
       "process equipment engineer    149\n",
       "manufacturing technician      128\n",
       "product technician            118\n",
       "facilities technician         115\n",
       "                             ... \n",
       "senior licensing analyst        1\n",
       "warehouse lead                  1\n",
       "digital marketer                1\n",
       "front of house manager          1\n",
       "pilates instructor              1\n",
       "Name: normalized_title, Length: 1616, dtype: int64"
      ]
     },
     "execution_count": 32,
     "metadata": {},
     "output_type": "execute_result"
    }
   ],
   "source": [
    "bert75_df.normalized_title.value_counts()"
   ]
  },
  {
   "cell_type": "code",
   "execution_count": 33,
   "id": "eaf1cb39",
   "metadata": {},
   "outputs": [
    {
     "data": {
      "text/plain": [
       "process equipment engineer    62\n",
       "etch equipment engineer       57\n",
       "manufacturing technician      47\n",
       "support engineer              43\n",
       "production technician         39\n",
       "                              ..\n",
       "shift leader                   1\n",
       "tig welder                     1\n",
       "gpu architect                  1\n",
       "digital strategist             1\n",
       "deli associate                 1\n",
       "Name: normalized_title, Length: 1335, dtype: int64"
      ]
     },
     "execution_count": 33,
     "metadata": {},
     "output_type": "execute_result"
    }
   ],
   "source": [
    "bert80_df.normalized_title.value_counts()"
   ]
  },
  {
   "cell_type": "code",
   "execution_count": 34,
   "id": "08fb6dad",
   "metadata": {},
   "outputs": [
    {
     "data": {
      "text/plain": [
       "process equipment engineer    50\n",
       "manufacturing technician      40\n",
       "production technician         37\n",
       "etch equipment engineer       37\n",
       "manufacturing supervisor      36\n",
       "                              ..\n",
       "pastry cook                    1\n",
       "mobility specialist            1\n",
       "life enrichment manager        1\n",
       "youth counselor                1\n",
       "recovery coach                 1\n",
       "Name: normalized_title, Length: 1431, dtype: int64"
      ]
     },
     "execution_count": 34,
     "metadata": {},
     "output_type": "execute_result"
    }
   ],
   "source": [
    "bert_detailed_title_df_75.normalized_title.value_counts()"
   ]
  },
  {
   "cell_type": "code",
   "execution_count": 35,
   "id": "ba4ed468",
   "metadata": {},
   "outputs": [
    {
     "data": {
      "text/plain": [
       "count    7041.000000\n",
       "mean        0.784139\n",
       "std         0.030950\n",
       "min         0.750009\n",
       "25%         0.760969\n",
       "50%         0.775286\n",
       "75%         0.798392\n",
       "max         1.000000\n",
       "Name: score, dtype: float64"
      ]
     },
     "execution_count": 35,
     "metadata": {},
     "output_type": "execute_result"
    }
   ],
   "source": [
    "spacy_df.score.describe()"
   ]
  },
  {
   "cell_type": "code",
   "execution_count": 36,
   "id": "14025fc8",
   "metadata": {},
   "outputs": [
    {
     "data": {
      "text/plain": [
       "count     36873.000000\n",
       "mean     362237.039921\n",
       "std      353139.388648\n",
       "min           7.000000\n",
       "25%       76866.000000\n",
       "50%       81563.000000\n",
       "75%      770320.000000\n",
       "max      981782.000000\n",
       "Name: new_score, dtype: float64"
      ]
     },
     "execution_count": 36,
     "metadata": {},
     "output_type": "execute_result"
    }
   ],
   "source": [
    "bert75_df.new_score.describe()"
   ]
  },
  {
   "cell_type": "code",
   "execution_count": 37,
   "id": "494ba8ef",
   "metadata": {},
   "outputs": [
    {
     "data": {
      "text/plain": [
       "count     10352.000000\n",
       "mean     383816.187983\n",
       "std      373145.572076\n",
       "min           8.000000\n",
       "25%       81487.750000\n",
       "50%       85784.500000\n",
       "75%      817494.000000\n",
       "max      981782.000000\n",
       "Name: new_score, dtype: float64"
      ]
     },
     "execution_count": 37,
     "metadata": {},
     "output_type": "execute_result"
    }
   ],
   "source": [
    "bert80_df.new_score.describe()"
   ]
  },
  {
   "cell_type": "code",
   "execution_count": 38,
   "id": "d21c27db",
   "metadata": {},
   "outputs": [
    {
     "data": {
      "text/plain": [
       "count    11968.000000\n",
       "mean         0.788515\n",
       "std          0.034539\n",
       "min          0.750001\n",
       "25%          0.762615\n",
       "50%          0.778685\n",
       "75%          0.804277\n",
       "max          0.975414\n",
       "Name: score, dtype: float64"
      ]
     },
     "execution_count": 38,
     "metadata": {},
     "output_type": "execute_result"
    }
   ],
   "source": [
    "bert_detailed_title_df_75.score.describe()"
   ]
  },
  {
   "cell_type": "code",
   "execution_count": 39,
   "id": "ce33c146",
   "metadata": {
    "scrolled": true
   },
   "outputs": [
    {
     "data": {
      "text/plain": [
       "<AxesSubplot:xlabel='score', ylabel='Count'>"
      ]
     },
     "execution_count": 39,
     "metadata": {},
     "output_type": "execute_result"
    },
    {
     "data": {
      "image/png": "[encoded data removed]",
      "text/plain": [
       "<Figure size 432x288 with 1 Axes>"
      ]
     },
     "metadata": {
      "needs_background": "light"
     },
     "output_type": "display_data"
    }
   ],
   "source": [
    "sn.histplot(spacy_df.score, kde=True)"
   ]
  },
  {
   "cell_type": "code",
   "execution_count": 40,
   "id": "05db0484",
   "metadata": {},
   "outputs": [
    {
     "data": {
      "text/plain": [
       "<AxesSubplot:xlabel='score', ylabel='Count'>"
      ]
     },
     "execution_count": 40,
     "metadata": {},
     "output_type": "execute_result"
    },
    {
     "data": {
      "image/png": "[encoded data removed]",
      "text/plain": [
       "<Figure size 432x288 with 1 Axes>"
      ]
     },
     "metadata": {
      "needs_background": "light"
     },
     "output_type": "display_data"
    }
   ],
   "source": [
    "sn.histplot(bert75_df.score, kde=True)"
   ]
  },
  {
   "cell_type": "code",
   "execution_count": 41,
   "id": "99bb41eb",
   "metadata": {},
   "outputs": [
    {
     "data": {
      "text/plain": [
       "<AxesSubplot:xlabel='score', ylabel='Count'>"
      ]
     },
     "execution_count": 41,
     "metadata": {},
     "output_type": "execute_result"
    },
    {
     "data": {
      "image/png": "[encoded data removed]",
      "text/plain": [
       "<Figure size 432x288 with 1 Axes>"
      ]
     },
     "metadata": {
      "needs_background": "light"
     },
     "output_type": "display_data"
    }
   ],
   "source": [
    "sn.histplot(bert80_df.score, kde=True)"
   ]
  },
  {
   "cell_type": "code",
   "execution_count": 42,
   "id": "ffccad80",
   "metadata": {},
   "outputs": [
    {
     "data": {
      "text/plain": [
       "<AxesSubplot:xlabel='score', ylabel='Count'>"
      ]
     },
     "execution_count": 42,
     "metadata": {},
     "output_type": "execute_result"
    },
    {
     "data": {
      "image/png": "[encoded data removed]",
      "text/plain": [
       "<Figure size 432x288 with 1 Axes>"
      ]
     },
     "metadata": {
      "needs_background": "light"
     },
     "output_type": "display_data"
    }
   ],
   "source": [
    "sn.histplot(bert_detailed_title_df_75.score, kde=True)"
   ]
  },
  {
   "cell_type": "code",
   "execution_count": 43,
   "id": "8212122f",
   "metadata": {},
   "outputs": [],
   "source": [
    "#spacy_df.to_excel('left_over_jt_normalized_by_spacy.xlsx')\n",
    "bert75_df.to_excel('BERT_75.xlsx')\n",
    "bert80_df.to_excel('BERT_80.xlsx')\n",
    "bert_detailed_title_df_75.to_excel('bert_detailed_title75.xlsx')"
   ]
  },
  {
   "cell_type": "code",
   "execution_count": null,
   "id": "131fde94",
   "metadata": {},
   "outputs": [],
   "source": []
  },
  {
   "cell_type": "code",
   "execution_count": null,
   "id": "98cee896",
   "metadata": {},
   "outputs": [],
   "source": []
  }
 ],
 "metadata": {
  "kernelspec": {
   "display_name": "Python 3 (ipykernel)",
   "language": "python",
   "name": "python3"
  },
  "language_info": {
   "codemirror_mode": {
    "name": "ipython",
    "version": 3
   },
   "file_extension": ".py",
   "mimetype": "text/x-python",
   "name": "python",
   "nbconvert_exporter": "python",
   "pygments_lexer": "ipython3",
   "version": "3.11.5"
  }
 },
 "nbformat": 4,
 "nbformat_minor": 5
}
